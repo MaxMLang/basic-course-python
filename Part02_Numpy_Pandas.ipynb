{
 "cells": [
  {
   "cell_type": "markdown",
   "metadata": {},
   "source": [
    "<img src=\"V03.png\" width=\"250\" style=\"float: left;\">"
   ]
  },
  {
   "cell_type": "markdown",
   "metadata": {},
   "source": [
    "# Part 2: Numpy and Pandas"
   ]
  },
  {
   "cell_type": "markdown",
   "metadata": {},
   "source": [
    "<hr style=\"border:1.5px solid gray\"> </hr>"
   ]
  },
  {
   "cell_type": "markdown",
   "metadata": {},
   "source": [
    "As you have seen in Part 1 of the course, Python already comes along with a variety of data structures. However, in this part we present two very important and standard packages that add to the basic structures in a valuable fashion. Namley, we give a brief introduction to `Numpy` and `Pandas`. \n",
    "\n",
    "The content of the notebook can be summarised as follows:"
   ]
  },
  {
   "cell_type": "markdown",
   "metadata": {},
   "source": [
    "1. [Preface on packages](#pre)<br/>\n",
    "2. [Numpy](#np)<br/>\n",
    "    2.1 [A first glimpse at Numpy](#np1)<br/>\n",
    "    2.2 [Subsetting](#np2)<br/>\n",
    "    2.3 [2D arrays](#np3)<br/>\n",
    "    2.4 [Basic statistics](#np4)<br/>\n",
    "    2.5 [Generating (pseudo) randoms](#np5)<br/>\n",
    "3. [Pandas](#sns)<br/>\n",
    "    3.1 [Creating a DataFrame](#pd1)<br/>\n",
    "    3.2 [Importing data into a DataFrame](#pd2)<br/>\n",
    "    3.3 [Analysing a DataFrame](#pd3)<br/>\n",
    "    3.4 [Sorting data](#pd4)<br/>\n",
    "    3.5 [Subsetting of a DataFrame](#pd5)<br/>\n",
    "    3.6 [Creating new columns](#pd6)<br/>\n",
    "    3.7 [Cumulative statistics](#pd7)<br/>\n",
    "    3.8 [Droping duplicates](#pd8)<br/>\n",
    "    3.9 [Counting](#pd9)<br/>\n",
    "    3.10 [Grouping](#pd10)<br/>\n",
    "    3.11 [Grouped summary statistics](#pd11)<br/>\n",
    "    3.12 [Pivot tables](#pd12)<br/>"
   ]
  },
  {
   "cell_type": "markdown",
   "metadata": {},
   "source": [
    "<hr style=\"border:1.5px solid gray\"> </hr>"
   ]
  },
  {
   "cell_type": "markdown",
   "metadata": {},
   "source": [
    "## 2.1. Preface on packages"
   ]
  },
  {
   "cell_type": "markdown",
   "metadata": {},
   "source": [
    "Thousands of packages are avaiable that are compatible with Python. The most important ones (there are many more of course) are:\n",
    "* *Numpy*\n",
    "* *Pandas*\n",
    "\n",
    "So how do you install/import packages? One advantage of the IDE PyCharm is, it will tell when you are importing an package that is not installed and directly offer you to install it. Do that! (There are other methods to install packages via the terminal but they are less convenient)\n",
    "\n",
    "`pip install` <-----\n",
    "\n",
    "![how to install][install_pack_image]\n",
    "![installed package][installed_pack_image]\n",
    "\n",
    "After you installed the packages you can import them. "
   ]
  },
  {
   "cell_type": "markdown",
   "metadata": {},
   "source": [
    "<hr style=\"border:1.5px solid gray\"> </hr>"
   ]
  },
  {
   "cell_type": "markdown",
   "metadata": {},
   "source": [
    "## 2.2. Numpy\n",
    "\n",
    "<a id='np'></a>"
   ]
  },
  {
   "cell_type": "markdown",
   "metadata": {},
   "source": [
    "This package provides the possibility to store data in multidimensional arrays. Those are a good alternative to the standard Python `list` structure. The latter has the drawback of relatively high memory costs and slow performance. Moreover, coming from a more mathematically perspective, the `ndarray` class introduce numeric operations, which can not be performed with lists. "
   ]
  },
  {
   "cell_type": "code",
   "execution_count": 1,
   "metadata": {},
   "outputs": [],
   "source": [
    "import numpy as np"
   ]
  },
  {
   "cell_type": "markdown",
   "metadata": {},
   "source": [
    "-----"
   ]
  },
  {
   "cell_type": "markdown",
   "metadata": {},
   "source": [
    "### A first glimpse at Numpy\n",
    "<a id='np1'></a>"
   ]
  },
  {
   "cell_type": "code",
   "execution_count": 2,
   "metadata": {},
   "outputs": [
    {
     "name": "stdout",
     "output_type": "stream",
     "text": [
      "[18.34 13.42 19.54 21.37 10.45 14.39 12.31]\n",
      "<class 'numpy.ndarray'>\n"
     ]
    }
   ],
   "source": [
    "#Temperatures\n",
    "monday = 18.34\n",
    "tuesday = 13.42\n",
    "wednesday = 19.54\n",
    "thursday = 21.37\n",
    "friday = 10.45\n",
    "saturday = 14.39\n",
    "sunday = 12.31\n",
    "week_temperatures = [monday,tuesday,wednesday,thursday,friday,saturday,sunday]\n",
    "\n",
    "week_temperatures_array = np.array(week_temperatures)\n",
    "print(week_temperatures_array)\n",
    "print(type(week_temperatures_array))"
   ]
  },
  {
   "cell_type": "markdown",
   "metadata": {},
   "source": [
    "With the command `import numpy as np` we imported all functions within the Numpy package. If you only want to use a certain function from a package, it is possible to only import this single method using the command `from x import y` as demonstrated below. However, these typ of imports are not completly optimal, because it is not clear that you used numpy during the code. Therefore general imports (first kind) are preferred."
   ]
  },
  {
   "cell_type": "code",
   "execution_count": 3,
   "metadata": {},
   "outputs": [
    {
     "name": "stdout",
     "output_type": "stream",
     "text": [
      "[18.34 13.42 19.54 21.37 10.45 14.39 12.31]\n"
     ]
    }
   ],
   "source": [
    "from numpy import array\n",
    "\n",
    "#Temperatures\n",
    "monday  = 18.34\n",
    "tuesday = 13.42\n",
    "wednesday = 19.54\n",
    "thursday = 21.37\n",
    "friday = 10.45\n",
    "saturday = 14.39\n",
    "sunday = 12.31\n",
    "week_temperatures = [monday,tuesday,wednesday,thursday,friday,saturday,sunday]\n",
    "\n",
    "week_temperatures_array = array(week_temperatures) #<--- Numpy function is still used here\n",
    "print(week_temperatures_array)"
   ]
  },
  {
   "cell_type": "markdown",
   "metadata": {},
   "source": [
    "`Numpy` provides several built-in functions to manipulate or analyse an array object. Some examples are presented in the following. For more info you can check out the [Numpy Website](http://numpy.org/)"
   ]
  },
  {
   "cell_type": "code",
   "execution_count": 53,
   "metadata": {},
   "outputs": [
    {
     "name": "stdout",
     "output_type": "stream",
     "text": [
      "----------------------------------------\n",
      "Mean computed manually:\n",
      "15.68857142857143\n",
      "----------------------------------------\n",
      "Mean computed with built-in function:\n",
      "15.68857142857143\n",
      "----------------------------------------\n",
      "Median computed with built-in function:\n",
      "14.39\n"
     ]
    }
   ],
   "source": [
    "#Temperatures\n",
    "monday = 18.34\n",
    "tuesday = 13.42\n",
    "wednesday = 19.54\n",
    "thursday = 21.37\n",
    "friday = 10.45\n",
    "saturday = 14.39\n",
    "sunday = 12.31\n",
    "week_temperatures = [monday,tuesday,wednesday,thursday,friday,saturday,sunday]\n",
    "week_temperatures_array = np.array(week_temperatures)\n",
    "\n",
    "#manual (with lists these kind of calculations can cause problems)\n",
    "mean_manual_week_temperatures = np.sum(week_temperatures_array)/len(week_temperatures_array)\n",
    "print(\"----------------------------------------\")\n",
    "print(\"Mean computed manually:\")\n",
    "print(mean_manual_week_temperatures)\n",
    "\n",
    "#with numpy function\n",
    "mean_np_week_temperatures = np.mean(week_temperatures_array)\n",
    "print(\"----------------------------------------\")\n",
    "print(\"Mean computed with built-in function:\")\n",
    "print(mean_np_week_temperatures)\n",
    "\n",
    "\n",
    "print(\"----------------------------------------\")\n",
    "print(\"Median computed with built-in function:\")\n",
    "print(np.median(week_temperatures_array)) "
   ]
  },
  {
   "cell_type": "markdown",
   "metadata": {},
   "source": [
    "------"
   ]
  },
  {
   "cell_type": "markdown",
   "metadata": {},
   "source": [
    "### Subsetting \n",
    "<a id='np2'></a>"
   ]
  },
  {
   "cell_type": "markdown",
   "metadata": {},
   "source": [
    "For many applications it is important to understand how to access certain elements of an array - in other words how an element is callable. In `numpy` this is done using the square brackets `[]`. The arguments can be a single index, a range of indices but also logical statements as shown below. One should not at this point that Python uses a zero-based index system - i.e. the first element has index 0."
   ]
  },
  {
   "cell_type": "code",
   "execution_count": 57,
   "metadata": {},
   "outputs": [
    {
     "name": "stdout",
     "output_type": "stream",
     "text": [
      "-------------------------------------------------\n",
      "Second element of the temperature array:\n",
      "13.42\n",
      "-------------------------------------------------\n",
      "First three elements of the temperature array:\n",
      "[18.34 13.42 19.54]\n",
      "-------------------------------------------------\n",
      "Checking which temperatures are above 15:\n",
      "[ True False  True  True False False False]\n",
      "-------------------------------------------------\n",
      "Extracting all temperatures above 15:\n",
      "[18.34 19.54 21.37]\n"
     ]
    }
   ],
   "source": [
    "#Temperatures\n",
    "monday = 18.34\n",
    "tuesday = 13.42\n",
    "wednesday = 19.54\n",
    "thursday = 21.37\n",
    "friday = 10.45\n",
    "saturday = 14.39\n",
    "sunday = 12.31\n",
    "week_temperatures = [monday,tuesday,wednesday,thursday,friday,saturday,sunday]\n",
    "week_temperatures_array = np.array(week_temperatures)\n",
    "\n",
    "print(\"-------------------------------------------------\")\n",
    "print(\"Second element of the temperature array:\")\n",
    "print(week_temperatures_array[1]) #Extracting Elements\n",
    "print(\"-------------------------------------------------\")\n",
    "print(\"First three elements of the temperature array:\")\n",
    "print(week_temperatures_array[:3]) #Slicing\n",
    "print(\"-------------------------------------------------\")\n",
    "print(\"Checking which temperatures are above 15:\")\n",
    "print(week_temperatures_array > 15)\n",
    "print(\"-------------------------------------------------\")\n",
    "print(\"Extracting all temperatures above 15:\")\n",
    "## As subset condition (must be logical), all elements with temperature over 15.0\n",
    "print(week_temperatures_array[week_temperatures_array > 15.0])"
   ]
  },
  {
   "cell_type": "markdown",
   "metadata": {},
   "source": [
    "#### Exercise"
   ]
  },
  {
   "cell_type": "code",
   "execution_count": 6,
   "metadata": {},
   "outputs": [],
   "source": [
    "# Import Numpy (try both ways)\n",
    "# Create a Numpy array on your own with AirQualityIndex Data you build on your own\n",
    "# Extract the last two elements\n",
    "# Extract all elements but the first one\n",
    "# Create a new array with AQI values over 100 and assign it to dangerous (variabel)\n",
    "# Create a new array with AQI values under 100, but not under 50 (use & and put both statements in parenthesis). Assign it to alright.\n",
    "# Create a new array with AQI values under 50. Assign it to nice\n",
    "# Print all variables"
   ]
  },
  {
   "cell_type": "markdown",
   "metadata": {},
   "source": [
    "------"
   ]
  },
  {
   "cell_type": "markdown",
   "metadata": {},
   "source": [
    "### 2D Arrays \n",
    "<a id='np3'></a>"
   ]
  },
  {
   "cell_type": "markdown",
   "metadata": {},
   "source": [
    "As you might know from other programming languagues arrays are most of the time multidimensional. So let's start small. 2 Dimensions."
   ]
  },
  {
   "cell_type": "code",
   "execution_count": 7,
   "metadata": {},
   "outputs": [
    {
     "name": "stdout",
     "output_type": "stream",
     "text": [
      "(2, 7)\n",
      "[11.  13.4 14.2 16.7 19.3 14.1 24.3]\n",
      "28.9\n",
      "28.9\n",
      "[[14.2 16.7]\n",
      " [28.9 22.3]]\n",
      "[28.9 22.3 17.3 17.8 19.2]\n",
      "[11.  13.4 14.2 16.7 19.3 14.1 24.3]\n"
     ]
    }
   ],
   "source": [
    "two_week_temparatures= np.array([[11.0, 13.4, 14.2, 16.7, 19.3, 14.1, 24.3],\n",
    "                                [23.4, 19.4, 28.9, 22.3, 17.3, 17.8, 19.2]])\n",
    "\n",
    "## shape function returns \"Dimensions\" of the array\n",
    "print(two_week_temparatures.shape)\n",
    "\n",
    "## Subsetting 2D Arrays\n",
    "print(two_week_temparatures[0])\n",
    "print(two_week_temparatures[1][2])\n",
    "##Alternative\n",
    "print(two_week_temparatures[1,2])\n",
    "\n",
    "# Both lists elements with index 2 and 3\n",
    "print(two_week_temparatures[:,2:4])\n",
    "\n",
    "#Second List Elements with index 2: till the end of the list\n",
    "print(two_week_temparatures[1,2:])\n",
    "\n",
    "# First List all elements \n",
    "print(two_week_temparatures[0,:])"
   ]
  },
  {
   "cell_type": "markdown",
   "metadata": {},
   "source": [
    "#### Exercise"
   ]
  },
  {
   "cell_type": "code",
   "execution_count": 8,
   "metadata": {},
   "outputs": [],
   "source": [
    "# Copy the two_week_temperatures array and try out all kinds of slicing. Get familiar with the concept"
   ]
  },
  {
   "cell_type": "markdown",
   "metadata": {},
   "source": [
    "-------"
   ]
  },
  {
   "cell_type": "markdown",
   "metadata": {},
   "source": [
    "### Basic statistics \n",
    "<a id='np4'></a>"
   ]
  },
  {
   "cell_type": "markdown",
   "metadata": {},
   "source": [
    "Before analyzing a dataset it is important to get know your data. The best way to do that is to print out some summary statistics.\n",
    "We already used some `numpy` statistical functions earlier, here are some important methods:\n",
    "* `median()`, Median\n",
    "* `corrcoef()`, Correlation Coefficient\n",
    "* `std()`, Standard Deviation\n",
    "\n",
    "Do not forget to write the alias `np.` in front of these functions. "
   ]
  },
  {
   "cell_type": "code",
   "execution_count": 58,
   "metadata": {},
   "outputs": [
    {
     "name": "stdout",
     "output_type": "stream",
     "text": [
      "--------------------------------------\n",
      "Temperature median over two weeks:\n",
      "18.5\n",
      "Temperature mean over two weeks:\n",
      "18.664285714285715\n",
      "--------------------------------------\n",
      "Temperature median of the first week:\n",
      "14.2\n",
      "Temperature mean of the first week:\n",
      "16.142857142857142\n",
      "--------------------------------------\n",
      "Standard deviation over two weeks:\n",
      "4.683497951448734\n",
      "Standard deviation of the first week:\n",
      "4.118549378068914\n",
      "Standard deviation of the second week:\n",
      "3.767313772600377\n"
     ]
    }
   ],
   "source": [
    "two_week_temparatures= np.array([[11.0, 13.4, 14.2, 16.7, 19.3, 14.1, 24.3],\n",
    "                                [23.4, 19.4, 28.9, 22.3, 17.3, 17.8, 19.2]])\n",
    "\n",
    "#over both weaks and all days\n",
    "print(\"--------------------------------------\")\n",
    "print(\"Temperature median over two weeks:\")\n",
    "print(np.median(two_week_temparatures))\n",
    "print(\"Temperature mean over two weeks:\")\n",
    "print(np.mean(two_week_temparatures))\n",
    "\n",
    "#Only from first \"week\" over all day\n",
    "print(\"--------------------------------------\")\n",
    "print(\"Temperature median of the first week:\")\n",
    "print(np.median(two_week_temparatures[0,:]))\n",
    "print(\"Temperature mean of the first week:\")\n",
    "print(np.mean(two_week_temparatures[0,:]))\n",
    "\n",
    "#Standard deviation\n",
    "print(\"--------------------------------------\")\n",
    "print(\"Standard deviation over two weeks:\")\n",
    "print(np.std(two_week_temparatures))\n",
    "print(\"Standard deviation of the first week:\")\n",
    "print(np.std(two_week_temparatures[0,:]))\n",
    "print(\"Standard deviation of the second week:\")\n",
    "print(np.std(two_week_temparatures[1,:]))"
   ]
  },
  {
   "cell_type": "markdown",
   "metadata": {},
   "source": [
    "-------"
   ]
  },
  {
   "cell_type": "markdown",
   "metadata": {},
   "source": [
    "### Generating (pseudo) randoms\n",
    "<a id='np5'></a>"
   ]
  },
  {
   "cell_type": "markdown",
   "metadata": {},
   "source": [
    "With the Numpy package you can also generate your own data to practice or more likely to model certain distributions. One way to generate your own data is to use `np.random`. It contains methods to draw samples from a huge variety of different distributions, e.g. Gaussian, Gamma, Weinbull, Poisson etc.. Normally the different functions only need the distribution parameters and the sample size as arguments. In case of the Normal distribution, a sample can be generated using `np.random.normal()` with the parameters $\\mu$ and $\\sigma$. In the following cell, we generate a standard Gaussian sample of size $10000$."
   ]
  },
  {
   "cell_type": "code",
   "execution_count": 10,
   "metadata": {},
   "outputs": [],
   "source": [
    "gaussian_sample = np.random.normal(0.0, 1.0, size = 10000)"
   ]
  },
  {
   "cell_type": "markdown",
   "metadata": {},
   "source": [
    "To verify if the data is generated correctly, we can display the empirical histogram - this will be covered in more detail in the next part of the course."
   ]
  },
  {
   "cell_type": "code",
   "execution_count": 14,
   "metadata": {},
   "outputs": [
    {
     "data": {
      "image/png": "[encoded data removed]",
      "text/plain": [
       "<Figure size 432x288 with 1 Axes>"
      ]
     },
     "metadata": {
      "needs_background": "light"
     },
     "output_type": "display_data"
    }
   ],
   "source": [
    "import matplotlib.pyplot as plt\n",
    "plt.hist(gaussian_sample, bins = 100, density = True)\n",
    "plt.title('Empirical histogram of standard Gaussians')\n",
    "plt.xlabel('Sample points')\n",
    "plt.ylabel('Density')\n",
    "plt.show()"
   ]
  },
  {
   "cell_type": "markdown",
   "metadata": {},
   "source": [
    "Clearly the random numbers are generated new everytime you rerun the regarding cell. Hence, it might be good to fix a certain \"random state\", so that the generated numbers stay the same. This can be done by defining a seed using the method `np.random.seed()`. So that in the same cell all random numbers stay the same when rerunning or are reproducable if you keep the used seed in mind."
   ]
  },
  {
   "cell_type": "code",
   "execution_count": 27,
   "metadata": {},
   "outputs": [
    {
     "data": {
      "text/plain": [
       "6.535895854646095"
      ]
     },
     "execution_count": 27,
     "metadata": {},
     "output_type": "execute_result"
    }
   ],
   "source": [
    "np.random.seed(1000)\n",
    "#Generating a number from the uniform distribution between 0 and 10\n",
    "np.random.uniform(0,10)"
   ]
  },
  {
   "cell_type": "markdown",
   "metadata": {},
   "source": [
    "Another more general approach is to introduce a random generator using `np.random.RandomState()`, which takes a seed as an argument. Once this generator is defined, one can draw samples directly from this object (so you do not need to work in the same notebook cell as the seed is defined in)."
   ]
  },
  {
   "cell_type": "code",
   "execution_count": 25,
   "metadata": {},
   "outputs": [],
   "source": [
    "rs = np.random.RandomState(12345)"
   ]
  },
  {
   "cell_type": "code",
   "execution_count": 26,
   "metadata": {},
   "outputs": [
    {
     "data": {
      "text/plain": [
       "array([-0.20470766,  0.47894334, -0.51943872, -0.5557303 ,  1.96578057,\n",
       "        1.39340583,  0.09290788,  0.28174615,  0.76902257,  1.24643474])"
      ]
     },
     "execution_count": 26,
     "metadata": {},
     "output_type": "execute_result"
    }
   ],
   "source": [
    "rs.normal(0.0,1.0,10)"
   ]
  },
  {
   "cell_type": "markdown",
   "metadata": {},
   "source": [
    "Another application could be to empirically verify the strong law of large numbers (SLLN), which states that for an i.i.d sample $(X_1,...,X_N)$, the average converges almost surely to the true mean. In other words, \n",
    "$$\n",
    "\\bar{S}_N := \\frac{1}{N}\\sum_{i=1}^N X_i \\overset{a.s.}{\\rightarrow}  \\mathbb{E}[X_1]\n",
    "$$\n",
    "for $N\\rightarrow +\\infty$."
   ]
  },
  {
   "cell_type": "code",
   "execution_count": 46,
   "metadata": {},
   "outputs": [],
   "source": [
    "s = np.cumsum(np.random.normal(1.5,10,1000))\n",
    "for i in np.arange(len(s)):\n",
    "    s[i] = s[i]/(i+1)\n",
    "mean = 1.5*np.ones(len(s)) "
   ]
  },
  {
   "cell_type": "code",
   "execution_count": 49,
   "metadata": {},
   "outputs": [
    {
     "data": {
      "image/png": "[encoded data removed]",
      "text/plain": [
       "<Figure size 432x288 with 1 Axes>"
      ]
     },
     "metadata": {
      "needs_background": "light"
     },
     "output_type": "display_data"
    }
   ],
   "source": [
    "plt.plot(s)\n",
    "plt.plot(mean,'--', color = 'r', label = 'True mean')\n",
    "plt.title('Visualisation of the law of large numbers')\n",
    "plt.xlabel('N')\n",
    "plt.ylabel('Empirical average')\n",
    "plt.legend()\n",
    "plt.show()"
   ]
  },
  {
   "cell_type": "markdown",
   "metadata": {},
   "source": [
    "<hr style=\"border:1.5px solid gray\"> </hr>"
   ]
  },
  {
   "cell_type": "markdown",
   "metadata": {},
   "source": [
    "## 2.3. Pandas\n",
    "\n",
    "<a id='pd'></a>"
   ]
  },
  {
   "cell_type": "markdown",
   "metadata": {},
   "source": [
    "Pandas is a library, created by Wes McKinney, to make data analysis with a focus on tabular data. It is built on top of `numpy`. The backbone of `pandas` is the class `DataFrame`, whose objects store data in a spreadsheet like way. Since this class has such a rich variety of functionalities, we will only cover the most important aspects in this course."
   ]
  },
  {
   "cell_type": "code",
   "execution_count": 14,
   "metadata": {},
   "outputs": [],
   "source": [
    "import pandas as pd"
   ]
  },
  {
   "cell_type": "markdown",
   "metadata": {},
   "source": [
    "----"
   ]
  },
  {
   "cell_type": "markdown",
   "metadata": {},
   "source": [
    "### Creating a DataFrame \n",
    "<a id='pd1'></a>"
   ]
  },
  {
   "cell_type": "markdown",
   "metadata": {},
   "source": [
    "Normally you will not build your own data frame, but I still want to present a way how to do it.\n",
    "Let say we have the dictionary `parts_europe` from a previous exercise. You can create a Data Frame by calling `pd.DataFrame()` passing `parts_europe` as an argument."
   ]
  },
  {
   "cell_type": "code",
   "execution_count": 23,
   "metadata": {},
   "outputs": [],
   "source": [
    "parts_europe = { \"country\":[\"Italy\", \"France\", \"Germany\", \"Poland\", \"United Kingdom\"],\n",
    "                 \"capital\":[\"Rome\", \"Paris\", \"Berlin\", \"Warsaw\", \"London\"],\n",
    "                 \"EU-Member\":[True,True, True, True, False]}\n",
    "df_parts_europe = pd.DataFrame(parts_europe)"
   ]
  },
  {
   "cell_type": "code",
   "execution_count": 29,
   "metadata": {},
   "outputs": [
    {
     "data": {
      "text/html": [
       "<div>\n",
       "<style scoped>\n",
       "    .dataframe tbody tr th:only-of-type {\n",
       "        vertical-align: middle;\n",
       "    }\n",
       "\n",
       "    .dataframe tbody tr th {\n",
       "        vertical-align: top;\n",
       "    }\n",
       "\n",
       "    .dataframe thead th {\n",
       "        text-align: right;\n",
       "    }\n",
       "</style>\n",
       "<table border=\"1\" class=\"dataframe\">\n",
       "  <thead>\n",
       "    <tr style=\"text-align: right;\">\n",
       "      <th></th>\n",
       "      <th>country</th>\n",
       "      <th>capital</th>\n",
       "      <th>EU-Member</th>\n",
       "    </tr>\n",
       "  </thead>\n",
       "  <tbody>\n",
       "    <tr>\n",
       "      <th>0</th>\n",
       "      <td>Italy</td>\n",
       "      <td>Rome</td>\n",
       "      <td>True</td>\n",
       "    </tr>\n",
       "    <tr>\n",
       "      <th>1</th>\n",
       "      <td>France</td>\n",
       "      <td>Paris</td>\n",
       "      <td>True</td>\n",
       "    </tr>\n",
       "    <tr>\n",
       "      <th>2</th>\n",
       "      <td>Germany</td>\n",
       "      <td>Berlin</td>\n",
       "      <td>True</td>\n",
       "    </tr>\n",
       "    <tr>\n",
       "      <th>3</th>\n",
       "      <td>Poland</td>\n",
       "      <td>Warsaw</td>\n",
       "      <td>True</td>\n",
       "    </tr>\n",
       "    <tr>\n",
       "      <th>4</th>\n",
       "      <td>United Kingdom</td>\n",
       "      <td>London</td>\n",
       "      <td>False</td>\n",
       "    </tr>\n",
       "  </tbody>\n",
       "</table>\n",
       "</div>"
      ],
      "text/plain": [
       "          country capital  EU-Member\n",
       "0           Italy    Rome       True\n",
       "1          France   Paris       True\n",
       "2         Germany  Berlin       True\n",
       "3          Poland  Warsaw       True\n",
       "4  United Kingdom  London      False"
      ]
     },
     "execution_count": 29,
     "metadata": {},
     "output_type": "execute_result"
    }
   ],
   "source": [
    "df_parts_europe"
   ]
  },
  {
   "cell_type": "markdown",
   "metadata": {},
   "source": [
    "It is possible to manually change the index of the dataframe, which is just the numbers 0,1,2,... for now. It makes sense to define it in a natural way. Normally one row of a dataframe stores different features for a single instance, e.g. a certain timestamp, country, etc.. "
   ]
  },
  {
   "cell_type": "code",
   "execution_count": 19,
   "metadata": {},
   "outputs": [],
   "source": [
    "df_parts_europe.index= [\"IT\", \"FR\", \"DE\", \"PL\", \"UK\"]"
   ]
  },
  {
   "cell_type": "code",
   "execution_count": 20,
   "metadata": {},
   "outputs": [
    {
     "data": {
      "text/html": [
       "<div>\n",
       "<style scoped>\n",
       "    .dataframe tbody tr th:only-of-type {\n",
       "        vertical-align: middle;\n",
       "    }\n",
       "\n",
       "    .dataframe tbody tr th {\n",
       "        vertical-align: top;\n",
       "    }\n",
       "\n",
       "    .dataframe thead th {\n",
       "        text-align: right;\n",
       "    }\n",
       "</style>\n",
       "<table border=\"1\" class=\"dataframe\">\n",
       "  <thead>\n",
       "    <tr style=\"text-align: right;\">\n",
       "      <th></th>\n",
       "      <th>country</th>\n",
       "      <th>capital</th>\n",
       "      <th>EU-Member</th>\n",
       "    </tr>\n",
       "  </thead>\n",
       "  <tbody>\n",
       "    <tr>\n",
       "      <th>IT</th>\n",
       "      <td>Italy</td>\n",
       "      <td>Rome</td>\n",
       "      <td>True</td>\n",
       "    </tr>\n",
       "    <tr>\n",
       "      <th>FR</th>\n",
       "      <td>France</td>\n",
       "      <td>Paris</td>\n",
       "      <td>True</td>\n",
       "    </tr>\n",
       "    <tr>\n",
       "      <th>DE</th>\n",
       "      <td>Germany</td>\n",
       "      <td>Berlin</td>\n",
       "      <td>True</td>\n",
       "    </tr>\n",
       "    <tr>\n",
       "      <th>PL</th>\n",
       "      <td>Poland</td>\n",
       "      <td>Warsaw</td>\n",
       "      <td>True</td>\n",
       "    </tr>\n",
       "    <tr>\n",
       "      <th>UK</th>\n",
       "      <td>United Kingdom</td>\n",
       "      <td>London</td>\n",
       "      <td>False</td>\n",
       "    </tr>\n",
       "  </tbody>\n",
       "</table>\n",
       "</div>"
      ],
      "text/plain": [
       "           country capital  EU-Member\n",
       "IT           Italy    Rome       True\n",
       "FR          France   Paris       True\n",
       "DE         Germany  Berlin       True\n",
       "PL          Poland  Warsaw       True\n",
       "UK  United Kingdom  London      False"
      ]
     },
     "execution_count": 20,
     "metadata": {},
     "output_type": "execute_result"
    }
   ],
   "source": [
    "df_parts_europe"
   ]
  },
  {
   "cell_type": "markdown",
   "metadata": {},
   "source": [
    "-----"
   ]
  },
  {
   "cell_type": "markdown",
   "metadata": {},
   "source": [
    "### Importing data into a DataFrame\n",
    "<a id='pd2'></a>"
   ]
  },
  {
   "cell_type": "markdown",
   "metadata": {},
   "source": [
    "Now let's get to the more important part: *Importing data*. By using Pandas `pd.read_csv()` you can read CSV (Comma Seperated Values) Files into python and assign it to a variable. The cool thing is, you do not even need to download it. You can just pass a link from a Github Repository as an Argument and it will read the data from there. As an example I will take the Airline Safety Dataset from FiveThirtyEight. You can find it [here](https://github.com/fivethirtyeight/data/tree/master/airline-safety). You should always remember passing the \"raw\" file to the `read_csv`function. You can get the link by clicking on the `.csv` file and then on the \"raw\" button. \n"
   ]
  },
  {
   "cell_type": "code",
   "execution_count": 30,
   "metadata": {},
   "outputs": [],
   "source": [
    "air_safety= pd.read_csv(\"https://raw.githubusercontent.com/fivethirtyeight/data/master/airline-safety/airline-safety.csv\")"
   ]
  },
  {
   "cell_type": "code",
   "execution_count": 51,
   "metadata": {},
   "outputs": [
    {
     "data": {
      "text/html": [
       "<div>\n",
       "<style scoped>\n",
       "    .dataframe tbody tr th:only-of-type {\n",
       "        vertical-align: middle;\n",
       "    }\n",
       "\n",
       "    .dataframe tbody tr th {\n",
       "        vertical-align: top;\n",
       "    }\n",
       "\n",
       "    .dataframe thead th {\n",
       "        text-align: right;\n",
       "    }\n",
       "</style>\n",
       "<table border=\"1\" class=\"dataframe\">\n",
       "  <thead>\n",
       "    <tr style=\"text-align: right;\">\n",
       "      <th></th>\n",
       "      <th>airline</th>\n",
       "      <th>avail_seat_km_per_week</th>\n",
       "      <th>incidents_85_99</th>\n",
       "      <th>fatal_accidents_85_99</th>\n",
       "      <th>fatalities_85_99</th>\n",
       "      <th>incidents_00_14</th>\n",
       "      <th>fatal_accidents_00_14</th>\n",
       "      <th>fatalities_00_14</th>\n",
       "    </tr>\n",
       "  </thead>\n",
       "  <tbody>\n",
       "    <tr>\n",
       "      <th>0</th>\n",
       "      <td>Aer Lingus</td>\n",
       "      <td>320906734</td>\n",
       "      <td>2</td>\n",
       "      <td>0</td>\n",
       "      <td>0</td>\n",
       "      <td>0</td>\n",
       "      <td>0</td>\n",
       "      <td>0</td>\n",
       "    </tr>\n",
       "    <tr>\n",
       "      <th>1</th>\n",
       "      <td>Aeroflot*</td>\n",
       "      <td>1197672318</td>\n",
       "      <td>76</td>\n",
       "      <td>14</td>\n",
       "      <td>128</td>\n",
       "      <td>6</td>\n",
       "      <td>1</td>\n",
       "      <td>88</td>\n",
       "    </tr>\n",
       "    <tr>\n",
       "      <th>2</th>\n",
       "      <td>Aerolineas Argentinas</td>\n",
       "      <td>385803648</td>\n",
       "      <td>6</td>\n",
       "      <td>0</td>\n",
       "      <td>0</td>\n",
       "      <td>1</td>\n",
       "      <td>0</td>\n",
       "      <td>0</td>\n",
       "    </tr>\n",
       "    <tr>\n",
       "      <th>3</th>\n",
       "      <td>Aeromexico*</td>\n",
       "      <td>596871813</td>\n",
       "      <td>3</td>\n",
       "      <td>1</td>\n",
       "      <td>64</td>\n",
       "      <td>5</td>\n",
       "      <td>0</td>\n",
       "      <td>0</td>\n",
       "    </tr>\n",
       "    <tr>\n",
       "      <th>4</th>\n",
       "      <td>Air Canada</td>\n",
       "      <td>1865253802</td>\n",
       "      <td>2</td>\n",
       "      <td>0</td>\n",
       "      <td>0</td>\n",
       "      <td>2</td>\n",
       "      <td>0</td>\n",
       "      <td>0</td>\n",
       "    </tr>\n",
       "  </tbody>\n",
       "</table>\n",
       "</div>"
      ],
      "text/plain": [
       "                 airline  avail_seat_km_per_week  incidents_85_99  \\\n",
       "0             Aer Lingus               320906734                2   \n",
       "1              Aeroflot*              1197672318               76   \n",
       "2  Aerolineas Argentinas               385803648                6   \n",
       "3            Aeromexico*               596871813                3   \n",
       "4             Air Canada              1865253802                2   \n",
       "\n",
       "   fatal_accidents_85_99  fatalities_85_99  incidents_00_14  \\\n",
       "0                      0                 0                0   \n",
       "1                     14               128                6   \n",
       "2                      0                 0                1   \n",
       "3                      1                64                5   \n",
       "4                      0                 0                2   \n",
       "\n",
       "   fatal_accidents_00_14  fatalities_00_14  \n",
       "0                      0                 0  \n",
       "1                      1                88  \n",
       "2                      0                 0  \n",
       "3                      0                 0  \n",
       "4                      0                 0  "
      ]
     },
     "execution_count": 51,
     "metadata": {},
     "output_type": "execute_result"
    }
   ],
   "source": [
    "air_safety[:5]"
   ]
  },
  {
   "cell_type": "code",
   "execution_count": 39,
   "metadata": {},
   "outputs": [
    {
     "data": {
      "text/plain": [
       "0               Aer Lingus\n",
       "1                Aeroflot*\n",
       "2    Aerolineas Argentinas\n",
       "3              Aeromexico*\n",
       "4               Air Canada\n",
       "Name: airline, dtype: object"
      ]
     },
     "execution_count": 39,
     "metadata": {},
     "output_type": "execute_result"
    }
   ],
   "source": [
    "## Column access\n",
    "air_safety[\"airline\"][:5]"
   ]
  },
  {
   "cell_type": "code",
   "execution_count": 42,
   "metadata": {},
   "outputs": [
    {
     "data": {
      "text/html": [
       "<div>\n",
       "<style scoped>\n",
       "    .dataframe tbody tr th:only-of-type {\n",
       "        vertical-align: middle;\n",
       "    }\n",
       "\n",
       "    .dataframe tbody tr th {\n",
       "        vertical-align: top;\n",
       "    }\n",
       "\n",
       "    .dataframe thead th {\n",
       "        text-align: right;\n",
       "    }\n",
       "</style>\n",
       "<table border=\"1\" class=\"dataframe\">\n",
       "  <thead>\n",
       "    <tr style=\"text-align: right;\">\n",
       "      <th></th>\n",
       "      <th>airline</th>\n",
       "      <th>fatalities_85_99</th>\n",
       "    </tr>\n",
       "  </thead>\n",
       "  <tbody>\n",
       "    <tr>\n",
       "      <th>0</th>\n",
       "      <td>Aer Lingus</td>\n",
       "      <td>0</td>\n",
       "    </tr>\n",
       "    <tr>\n",
       "      <th>1</th>\n",
       "      <td>Aeroflot*</td>\n",
       "      <td>128</td>\n",
       "    </tr>\n",
       "    <tr>\n",
       "      <th>2</th>\n",
       "      <td>Aerolineas Argentinas</td>\n",
       "      <td>0</td>\n",
       "    </tr>\n",
       "    <tr>\n",
       "      <th>3</th>\n",
       "      <td>Aeromexico*</td>\n",
       "      <td>64</td>\n",
       "    </tr>\n",
       "    <tr>\n",
       "      <th>4</th>\n",
       "      <td>Air Canada</td>\n",
       "      <td>0</td>\n",
       "    </tr>\n",
       "  </tbody>\n",
       "</table>\n",
       "</div>"
      ],
      "text/plain": [
       "                 airline  fatalities_85_99\n",
       "0             Aer Lingus                 0\n",
       "1              Aeroflot*               128\n",
       "2  Aerolineas Argentinas                 0\n",
       "3            Aeromexico*                64\n",
       "4             Air Canada                 0"
      ]
     },
     "execution_count": 42,
     "metadata": {},
     "output_type": "execute_result"
    }
   ],
   "source": [
    "# Two columns at once\n",
    "air_safety[[\"airline\", \"fatalities_85_99\"]][:5]"
   ]
  },
  {
   "cell_type": "code",
   "execution_count": 47,
   "metadata": {},
   "outputs": [
    {
     "data": {
      "text/plain": [
       "pandas.core.frame.DataFrame"
      ]
     },
     "execution_count": 47,
     "metadata": {},
     "output_type": "execute_result"
    }
   ],
   "source": [
    "type(air_safety)"
   ]
  },
  {
   "cell_type": "markdown",
   "metadata": {},
   "source": [
    "Another way to access elements is via the `loc` (label-based) and  `iloc` (index-based) functions. In this dataset we do not have labels, so we will use the `iloc` function. However, the `loc` works exactly the same, except you will have to pass the label strings as arguments."
   ]
  },
  {
   "cell_type": "code",
   "execution_count": 46,
   "metadata": {
    "scrolled": true
   },
   "outputs": [
    {
     "data": {
      "text/html": [
       "<div>\n",
       "<style scoped>\n",
       "    .dataframe tbody tr th:only-of-type {\n",
       "        vertical-align: middle;\n",
       "    }\n",
       "\n",
       "    .dataframe tbody tr th {\n",
       "        vertical-align: top;\n",
       "    }\n",
       "\n",
       "    .dataframe thead th {\n",
       "        text-align: right;\n",
       "    }\n",
       "</style>\n",
       "<table border=\"1\" class=\"dataframe\">\n",
       "  <thead>\n",
       "    <tr style=\"text-align: right;\">\n",
       "      <th></th>\n",
       "      <th>airline</th>\n",
       "      <th>incidents_85_99</th>\n",
       "      <th>fatal_accidents_85_99</th>\n",
       "      <th>fatalities_85_99</th>\n",
       "    </tr>\n",
       "  </thead>\n",
       "  <tbody>\n",
       "    <tr>\n",
       "      <th>1</th>\n",
       "      <td>Aeroflot*</td>\n",
       "      <td>76</td>\n",
       "      <td>14</td>\n",
       "      <td>128</td>\n",
       "    </tr>\n",
       "    <tr>\n",
       "      <th>2</th>\n",
       "      <td>Aerolineas Argentinas</td>\n",
       "      <td>6</td>\n",
       "      <td>0</td>\n",
       "      <td>0</td>\n",
       "    </tr>\n",
       "    <tr>\n",
       "      <th>3</th>\n",
       "      <td>Aeromexico*</td>\n",
       "      <td>3</td>\n",
       "      <td>1</td>\n",
       "      <td>64</td>\n",
       "    </tr>\n",
       "    <tr>\n",
       "      <th>4</th>\n",
       "      <td>Air Canada</td>\n",
       "      <td>2</td>\n",
       "      <td>0</td>\n",
       "      <td>0</td>\n",
       "    </tr>\n",
       "    <tr>\n",
       "      <th>5</th>\n",
       "      <td>Air France</td>\n",
       "      <td>14</td>\n",
       "      <td>4</td>\n",
       "      <td>79</td>\n",
       "    </tr>\n",
       "  </tbody>\n",
       "</table>\n",
       "</div>"
      ],
      "text/plain": [
       "                 airline  incidents_85_99  fatal_accidents_85_99  \\\n",
       "1              Aeroflot*               76                     14   \n",
       "2  Aerolineas Argentinas                6                      0   \n",
       "3            Aeromexico*                3                      1   \n",
       "4             Air Canada                2                      0   \n",
       "5             Air France               14                      4   \n",
       "\n",
       "   fatalities_85_99  \n",
       "1               128  \n",
       "2                 0  \n",
       "3                64  \n",
       "4                 0  \n",
       "5                79  "
      ]
     },
     "execution_count": 46,
     "metadata": {},
     "output_type": "execute_result"
    }
   ],
   "source": [
    "air_safety.iloc[[1,2,3,4,5], [0,2,3,4]]"
   ]
  },
  {
   "cell_type": "markdown",
   "metadata": {},
   "source": [
    "#### Exercise\n",
    "Avengers dataset [here](https://github.com/fivethirtyeight/data/tree/master/avengers)"
   ]
  },
  {
   "cell_type": "code",
   "execution_count": 54,
   "metadata": {},
   "outputs": [],
   "source": [
    "# Import Pandas with the correct alias\n",
    "# Create a dictionary called parts_germany contain minimum of 5 provinces (Bundesländer), their capitals as well as their population\n",
    "# Create a dataframe df_parts_germany from you dictionary\n",
    "# Print df_parts_germany\n",
    "# Change the indexes to short labels e.g. \"Bayern\" -->\"BY\"\n",
    "# Import the avengers dataset from Github (link above) remember to use the raw format link\n",
    "# Select the first three columns\n",
    "# Select rows 130, 131 and 132\n",
    "# Use the iloc function to subset all rows but only the name, appearances and years since joining column\n",
    "# Use the iloc function to subset the first 5 rows as well as the Name and Gender column"
   ]
  },
  {
   "cell_type": "markdown",
   "metadata": {},
   "source": [
    "-----"
   ]
  },
  {
   "cell_type": "markdown",
   "metadata": {},
   "source": [
    "### Analysing a DataFrame\n",
    "<a id='pd3'></a>"
   ]
  },
  {
   "cell_type": "markdown",
   "metadata": {},
   "source": [
    "When we read a `.csv` file (with Pandas) into Python, Pandas automatically creates a _DataFrame_ object. There is a rich variety of methods within the library to explore a data frame, e.g. to clean the data. Some of them are for example:\n",
    "* `my_df`, displays the whole dataframe \"my_df\"\n",
    "* `my_df.head()`, displays the first five rows\n",
    "* `my_df.tail()`, displays the last five rows\n",
    "* `my_df.info()`, displays a summary of the objects in the dataframe\n",
    "* `my_df.shape`, gives the dimensions of the data frame\n",
    "* `my_df.describe()`, displays a statistical summary of the dataframe"
   ]
  },
  {
   "cell_type": "code",
   "execution_count": 63,
   "metadata": {
    "scrolled": true
   },
   "outputs": [
    {
     "data": {
      "text/html": [
       "<div>\n",
       "<style scoped>\n",
       "    .dataframe tbody tr th:only-of-type {\n",
       "        vertical-align: middle;\n",
       "    }\n",
       "\n",
       "    .dataframe tbody tr th {\n",
       "        vertical-align: top;\n",
       "    }\n",
       "\n",
       "    .dataframe thead th {\n",
       "        text-align: right;\n",
       "    }\n",
       "</style>\n",
       "<table border=\"1\" class=\"dataframe\">\n",
       "  <thead>\n",
       "    <tr style=\"text-align: right;\">\n",
       "      <th></th>\n",
       "      <th>individuals</th>\n",
       "      <th>family_members</th>\n",
       "      <th>state_pop</th>\n",
       "    </tr>\n",
       "  </thead>\n",
       "  <tbody>\n",
       "    <tr>\n",
       "      <th>count</th>\n",
       "      <td>51.000000</td>\n",
       "      <td>51.000000</td>\n",
       "      <td>5.100000e+01</td>\n",
       "    </tr>\n",
       "    <tr>\n",
       "      <th>mean</th>\n",
       "      <td>7225.784314</td>\n",
       "      <td>3504.882353</td>\n",
       "      <td>6.405637e+06</td>\n",
       "    </tr>\n",
       "    <tr>\n",
       "      <th>std</th>\n",
       "      <td>15991.025083</td>\n",
       "      <td>7805.411811</td>\n",
       "      <td>7.327258e+06</td>\n",
       "    </tr>\n",
       "    <tr>\n",
       "      <th>min</th>\n",
       "      <td>434.000000</td>\n",
       "      <td>75.000000</td>\n",
       "      <td>5.776010e+05</td>\n",
       "    </tr>\n",
       "    <tr>\n",
       "      <th>25%</th>\n",
       "      <td>1446.500000</td>\n",
       "      <td>592.000000</td>\n",
       "      <td>1.777414e+06</td>\n",
       "    </tr>\n",
       "    <tr>\n",
       "      <th>50%</th>\n",
       "      <td>3082.000000</td>\n",
       "      <td>1482.000000</td>\n",
       "      <td>4.461153e+06</td>\n",
       "    </tr>\n",
       "    <tr>\n",
       "      <th>75%</th>\n",
       "      <td>6781.500000</td>\n",
       "      <td>3196.000000</td>\n",
       "      <td>7.340946e+06</td>\n",
       "    </tr>\n",
       "    <tr>\n",
       "      <th>max</th>\n",
       "      <td>109008.000000</td>\n",
       "      <td>52070.000000</td>\n",
       "      <td>3.946159e+07</td>\n",
       "    </tr>\n",
       "  </tbody>\n",
       "</table>\n",
       "</div>"
      ],
      "text/plain": [
       "         individuals  family_members     state_pop\n",
       "count      51.000000       51.000000  5.100000e+01\n",
       "mean     7225.784314     3504.882353  6.405637e+06\n",
       "std     15991.025083     7805.411811  7.327258e+06\n",
       "min       434.000000       75.000000  5.776010e+05\n",
       "25%      1446.500000      592.000000  1.777414e+06\n",
       "50%      3082.000000     1482.000000  4.461153e+06\n",
       "75%      6781.500000     3196.000000  7.340946e+06\n",
       "max    109008.000000    52070.000000  3.946159e+07"
      ]
     },
     "execution_count": 63,
     "metadata": {},
     "output_type": "execute_result"
    }
   ],
   "source": [
    "homeless_data= pd.read_csv(\"/Users/niklaswalter/Desktop/DSA/homelessness.csv\", index_col = 0)\n",
    "\n",
    "#homeless_data.head()\n",
    "#homeless_data.info()\n",
    "#homeless_data.shape\n",
    "homeless_data.describe()"
   ]
  },
  {
   "cell_type": "markdown",
   "metadata": {},
   "source": [
    "-----"
   ]
  },
  {
   "cell_type": "markdown",
   "metadata": {},
   "source": [
    "### Sorting  data\n",
    "<a id='pd4'></a>"
   ]
  },
  {
   "cell_type": "markdown",
   "metadata": {},
   "source": [
    "First of all we will have a look on how to sort our data frame by using the `sort_values` function"
   ]
  },
  {
   "cell_type": "code",
   "execution_count": 68,
   "metadata": {
    "scrolled": true
   },
   "outputs": [
    {
     "name": "stdout",
     "output_type": "stream",
     "text": [
      "Index(['region', 'state', 'individuals', 'family_members', 'state_pop'], dtype='object')\n"
     ]
    }
   ],
   "source": [
    "col = homeless_data.columns\n",
    "print(col)"
   ]
  },
  {
   "cell_type": "code",
   "execution_count": 74,
   "metadata": {},
   "outputs": [
    {
     "data": {
      "text/html": [
       "<div>\n",
       "<style scoped>\n",
       "    .dataframe tbody tr th:only-of-type {\n",
       "        vertical-align: middle;\n",
       "    }\n",
       "\n",
       "    .dataframe tbody tr th {\n",
       "        vertical-align: top;\n",
       "    }\n",
       "\n",
       "    .dataframe thead th {\n",
       "        text-align: right;\n",
       "    }\n",
       "</style>\n",
       "<table border=\"1\" class=\"dataframe\">\n",
       "  <thead>\n",
       "    <tr style=\"text-align: right;\">\n",
       "      <th></th>\n",
       "      <th>region</th>\n",
       "      <th>state</th>\n",
       "      <th>individuals</th>\n",
       "      <th>family_members</th>\n",
       "      <th>state_pop</th>\n",
       "    </tr>\n",
       "  </thead>\n",
       "  <tbody>\n",
       "    <tr>\n",
       "      <th>47</th>\n",
       "      <td>Pacific</td>\n",
       "      <td>Washington</td>\n",
       "      <td>16424</td>\n",
       "      <td>5880</td>\n",
       "      <td>7523869</td>\n",
       "    </tr>\n",
       "    <tr>\n",
       "      <th>43</th>\n",
       "      <td>West South Central</td>\n",
       "      <td>Texas</td>\n",
       "      <td>19199</td>\n",
       "      <td>6111</td>\n",
       "      <td>28628666</td>\n",
       "    </tr>\n",
       "    <tr>\n",
       "      <th>9</th>\n",
       "      <td>South Atlantic</td>\n",
       "      <td>Florida</td>\n",
       "      <td>21443</td>\n",
       "      <td>9587</td>\n",
       "      <td>21244317</td>\n",
       "    </tr>\n",
       "    <tr>\n",
       "      <th>32</th>\n",
       "      <td>Mid-Atlantic</td>\n",
       "      <td>New York</td>\n",
       "      <td>39827</td>\n",
       "      <td>52070</td>\n",
       "      <td>19530351</td>\n",
       "    </tr>\n",
       "    <tr>\n",
       "      <th>4</th>\n",
       "      <td>Pacific</td>\n",
       "      <td>California</td>\n",
       "      <td>109008</td>\n",
       "      <td>20964</td>\n",
       "      <td>39461588</td>\n",
       "    </tr>\n",
       "  </tbody>\n",
       "</table>\n",
       "</div>"
      ],
      "text/plain": [
       "                region       state  individuals  family_members  state_pop\n",
       "47             Pacific  Washington        16424            5880    7523869\n",
       "43  West South Central       Texas        19199            6111   28628666\n",
       "9       South Atlantic     Florida        21443            9587   21244317\n",
       "32        Mid-Atlantic    New York        39827           52070   19530351\n",
       "4              Pacific  California       109008           20964   39461588"
      ]
     },
     "execution_count": 74,
     "metadata": {},
     "output_type": "execute_result"
    }
   ],
   "source": [
    "homeless_data_sort = homeless_data.sort_values(\"individuals\")\n",
    "homeless_data_sort.tail()"
   ]
  },
  {
   "cell_type": "code",
   "execution_count": 75,
   "metadata": {},
   "outputs": [
    {
     "data": {
      "text/html": [
       "<div>\n",
       "<style scoped>\n",
       "    .dataframe tbody tr th:only-of-type {\n",
       "        vertical-align: middle;\n",
       "    }\n",
       "\n",
       "    .dataframe tbody tr th {\n",
       "        vertical-align: top;\n",
       "    }\n",
       "\n",
       "    .dataframe thead th {\n",
       "        text-align: right;\n",
       "    }\n",
       "</style>\n",
       "<table border=\"1\" class=\"dataframe\">\n",
       "  <thead>\n",
       "    <tr style=\"text-align: right;\">\n",
       "      <th></th>\n",
       "      <th>region</th>\n",
       "      <th>state</th>\n",
       "      <th>individuals</th>\n",
       "      <th>family_members</th>\n",
       "      <th>state_pop</th>\n",
       "    </tr>\n",
       "  </thead>\n",
       "  <tbody>\n",
       "    <tr>\n",
       "      <th>32</th>\n",
       "      <td>Mid-Atlantic</td>\n",
       "      <td>New York</td>\n",
       "      <td>39827</td>\n",
       "      <td>52070</td>\n",
       "      <td>19530351</td>\n",
       "    </tr>\n",
       "    <tr>\n",
       "      <th>4</th>\n",
       "      <td>Pacific</td>\n",
       "      <td>California</td>\n",
       "      <td>109008</td>\n",
       "      <td>20964</td>\n",
       "      <td>39461588</td>\n",
       "    </tr>\n",
       "    <tr>\n",
       "      <th>21</th>\n",
       "      <td>New England</td>\n",
       "      <td>Massachusetts</td>\n",
       "      <td>6811</td>\n",
       "      <td>13257</td>\n",
       "      <td>6882635</td>\n",
       "    </tr>\n",
       "    <tr>\n",
       "      <th>9</th>\n",
       "      <td>South Atlantic</td>\n",
       "      <td>Florida</td>\n",
       "      <td>21443</td>\n",
       "      <td>9587</td>\n",
       "      <td>21244317</td>\n",
       "    </tr>\n",
       "    <tr>\n",
       "      <th>43</th>\n",
       "      <td>West South Central</td>\n",
       "      <td>Texas</td>\n",
       "      <td>19199</td>\n",
       "      <td>6111</td>\n",
       "      <td>28628666</td>\n",
       "    </tr>\n",
       "  </tbody>\n",
       "</table>\n",
       "</div>"
      ],
      "text/plain": [
       "                region          state  individuals  family_members  state_pop\n",
       "32        Mid-Atlantic       New York        39827           52070   19530351\n",
       "4              Pacific     California       109008           20964   39461588\n",
       "21         New England  Massachusetts         6811           13257    6882635\n",
       "9       South Atlantic        Florida        21443            9587   21244317\n",
       "43  West South Central          Texas        19199            6111   28628666"
      ]
     },
     "execution_count": 75,
     "metadata": {},
     "output_type": "execute_result"
    }
   ],
   "source": [
    "homelessness_fam = homeless_data.sort_values(\"family_members\", ascending= False)\n",
    "homelessness_fam.head()"
   ]
  },
  {
   "cell_type": "code",
   "execution_count": 78,
   "metadata": {},
   "outputs": [
    {
     "data": {
      "text/html": [
       "<div>\n",
       "<style scoped>\n",
       "    .dataframe tbody tr th:only-of-type {\n",
       "        vertical-align: middle;\n",
       "    }\n",
       "\n",
       "    .dataframe tbody tr th {\n",
       "        vertical-align: top;\n",
       "    }\n",
       "\n",
       "    .dataframe thead th {\n",
       "        text-align: right;\n",
       "    }\n",
       "</style>\n",
       "<table border=\"1\" class=\"dataframe\">\n",
       "  <thead>\n",
       "    <tr style=\"text-align: right;\">\n",
       "      <th></th>\n",
       "      <th>region</th>\n",
       "      <th>state</th>\n",
       "      <th>individuals</th>\n",
       "      <th>family_members</th>\n",
       "      <th>state_pop</th>\n",
       "    </tr>\n",
       "  </thead>\n",
       "  <tbody>\n",
       "    <tr>\n",
       "      <th>13</th>\n",
       "      <td>East North Central</td>\n",
       "      <td>Illinois</td>\n",
       "      <td>6752</td>\n",
       "      <td>3891</td>\n",
       "      <td>12723071</td>\n",
       "    </tr>\n",
       "    <tr>\n",
       "      <th>35</th>\n",
       "      <td>East North Central</td>\n",
       "      <td>Ohio</td>\n",
       "      <td>6929</td>\n",
       "      <td>3320</td>\n",
       "      <td>11676341</td>\n",
       "    </tr>\n",
       "    <tr>\n",
       "      <th>22</th>\n",
       "      <td>East North Central</td>\n",
       "      <td>Michigan</td>\n",
       "      <td>5209</td>\n",
       "      <td>3142</td>\n",
       "      <td>9984072</td>\n",
       "    </tr>\n",
       "    <tr>\n",
       "      <th>49</th>\n",
       "      <td>East North Central</td>\n",
       "      <td>Wisconsin</td>\n",
       "      <td>2740</td>\n",
       "      <td>2167</td>\n",
       "      <td>5807406</td>\n",
       "    </tr>\n",
       "    <tr>\n",
       "      <th>14</th>\n",
       "      <td>East North Central</td>\n",
       "      <td>Indiana</td>\n",
       "      <td>3776</td>\n",
       "      <td>1482</td>\n",
       "      <td>6695497</td>\n",
       "    </tr>\n",
       "    <tr>\n",
       "      <th>42</th>\n",
       "      <td>East South Central</td>\n",
       "      <td>Tennessee</td>\n",
       "      <td>6139</td>\n",
       "      <td>1744</td>\n",
       "      <td>6771631</td>\n",
       "    </tr>\n",
       "    <tr>\n",
       "      <th>17</th>\n",
       "      <td>East South Central</td>\n",
       "      <td>Kentucky</td>\n",
       "      <td>2735</td>\n",
       "      <td>953</td>\n",
       "      <td>4461153</td>\n",
       "    </tr>\n",
       "    <tr>\n",
       "      <th>0</th>\n",
       "      <td>East South Central</td>\n",
       "      <td>Alabama</td>\n",
       "      <td>2570</td>\n",
       "      <td>864</td>\n",
       "      <td>4887681</td>\n",
       "    </tr>\n",
       "    <tr>\n",
       "      <th>24</th>\n",
       "      <td>East South Central</td>\n",
       "      <td>Mississippi</td>\n",
       "      <td>1024</td>\n",
       "      <td>328</td>\n",
       "      <td>2981020</td>\n",
       "    </tr>\n",
       "    <tr>\n",
       "      <th>32</th>\n",
       "      <td>Mid-Atlantic</td>\n",
       "      <td>New York</td>\n",
       "      <td>39827</td>\n",
       "      <td>52070</td>\n",
       "      <td>19530351</td>\n",
       "    </tr>\n",
       "    <tr>\n",
       "      <th>38</th>\n",
       "      <td>Mid-Atlantic</td>\n",
       "      <td>Pennsylvania</td>\n",
       "      <td>8163</td>\n",
       "      <td>5349</td>\n",
       "      <td>12800922</td>\n",
       "    </tr>\n",
       "    <tr>\n",
       "      <th>30</th>\n",
       "      <td>Mid-Atlantic</td>\n",
       "      <td>New Jersey</td>\n",
       "      <td>6048</td>\n",
       "      <td>3350</td>\n",
       "      <td>8886025</td>\n",
       "    </tr>\n",
       "    <tr>\n",
       "      <th>5</th>\n",
       "      <td>Mountain</td>\n",
       "      <td>Colorado</td>\n",
       "      <td>7607</td>\n",
       "      <td>3250</td>\n",
       "      <td>5691287</td>\n",
       "    </tr>\n",
       "    <tr>\n",
       "      <th>2</th>\n",
       "      <td>Mountain</td>\n",
       "      <td>Arizona</td>\n",
       "      <td>7259</td>\n",
       "      <td>2606</td>\n",
       "      <td>7158024</td>\n",
       "    </tr>\n",
       "    <tr>\n",
       "      <th>44</th>\n",
       "      <td>Mountain</td>\n",
       "      <td>Utah</td>\n",
       "      <td>1904</td>\n",
       "      <td>972</td>\n",
       "      <td>3153550</td>\n",
       "    </tr>\n",
       "  </tbody>\n",
       "</table>\n",
       "</div>"
      ],
      "text/plain": [
       "                region         state  individuals  family_members  state_pop\n",
       "13  East North Central      Illinois         6752            3891   12723071\n",
       "35  East North Central          Ohio         6929            3320   11676341\n",
       "22  East North Central      Michigan         5209            3142    9984072\n",
       "49  East North Central     Wisconsin         2740            2167    5807406\n",
       "14  East North Central       Indiana         3776            1482    6695497\n",
       "42  East South Central     Tennessee         6139            1744    6771631\n",
       "17  East South Central      Kentucky         2735             953    4461153\n",
       "0   East South Central       Alabama         2570             864    4887681\n",
       "24  East South Central   Mississippi         1024             328    2981020\n",
       "32        Mid-Atlantic      New York        39827           52070   19530351\n",
       "38        Mid-Atlantic  Pennsylvania         8163            5349   12800922\n",
       "30        Mid-Atlantic    New Jersey         6048            3350    8886025\n",
       "5             Mountain      Colorado         7607            3250    5691287\n",
       "2             Mountain       Arizona         7259            2606    7158024\n",
       "44            Mountain          Utah         1904             972    3153550"
      ]
     },
     "execution_count": 78,
     "metadata": {},
     "output_type": "execute_result"
    }
   ],
   "source": [
    "homelessness_reg_fam = homeless_data.sort_values([\"region\", \"family_members\"], ascending= [True, False])\n",
    "homelessness_reg_fam[:15]"
   ]
  },
  {
   "cell_type": "markdown",
   "metadata": {},
   "source": [
    "#### Exercise"
   ]
  },
  {
   "cell_type": "code",
   "execution_count": 57,
   "metadata": {},
   "outputs": [],
   "source": [
    "# Import the Walmart Sales data set\n",
    "# Explore the data frame with the fucntions you learned previously\n",
    "# Get familiar with the column names of the data frame\n",
    "# Sort the weekly sales column ascending and store the result to a variable to print out\n",
    "# Sort the fuel price column descending and store the result to a variable to print out\n",
    "# Sort weekly sales ascending, fuel price descending and unemployment ascending"
   ]
  },
  {
   "cell_type": "markdown",
   "metadata": {},
   "source": [
    "-----"
   ]
  },
  {
   "cell_type": "markdown",
   "metadata": {},
   "source": [
    "### Subsetting of a DataFrame\n",
    "<a id='pd5'></a>"
   ]
  },
  {
   "cell_type": "markdown",
   "metadata": {},
   "source": [
    "Often we want to extract certain columns. This is possible by calling `my_df[\"COLUMN_I_LIKE\"]` or if you want multiple columns`my_df[[\"COLUMN_I_WANT\", ..., \"Last_Column\"]]`, which is basically just a list of column names. Remember if you want to extract multiple columns you will need extra `[]` for the list."
   ]
  },
  {
   "cell_type": "code",
   "execution_count": 91,
   "metadata": {
    "scrolled": true
   },
   "outputs": [
    {
     "data": {
      "text/plain": [
       "0      2570\n",
       "1      1434\n",
       "2      7259\n",
       "3      2280\n",
       "4    109008\n",
       "Name: individuals, dtype: int64"
      ]
     },
     "execution_count": 91,
     "metadata": {},
     "output_type": "execute_result"
    }
   ],
   "source": [
    "individuals = homeless_data[\"individuals\"]\n",
    "#individuals = pd.DataFrame(individuals)\n",
    "individuals.head()"
   ]
  },
  {
   "cell_type": "code",
   "execution_count": 88,
   "metadata": {},
   "outputs": [
    {
     "data": {
      "text/html": [
       "<div>\n",
       "<style scoped>\n",
       "    .dataframe tbody tr th:only-of-type {\n",
       "        vertical-align: middle;\n",
       "    }\n",
       "\n",
       "    .dataframe tbody tr th {\n",
       "        vertical-align: top;\n",
       "    }\n",
       "\n",
       "    .dataframe thead th {\n",
       "        text-align: right;\n",
       "    }\n",
       "</style>\n",
       "<table border=\"1\" class=\"dataframe\">\n",
       "  <thead>\n",
       "    <tr style=\"text-align: right;\">\n",
       "      <th></th>\n",
       "      <th>individuals</th>\n",
       "      <th>family_members</th>\n",
       "    </tr>\n",
       "  </thead>\n",
       "  <tbody>\n",
       "    <tr>\n",
       "      <th>0</th>\n",
       "      <td>2570</td>\n",
       "      <td>864</td>\n",
       "    </tr>\n",
       "    <tr>\n",
       "      <th>1</th>\n",
       "      <td>1434</td>\n",
       "      <td>582</td>\n",
       "    </tr>\n",
       "    <tr>\n",
       "      <th>2</th>\n",
       "      <td>7259</td>\n",
       "      <td>2606</td>\n",
       "    </tr>\n",
       "    <tr>\n",
       "      <th>3</th>\n",
       "      <td>2280</td>\n",
       "      <td>432</td>\n",
       "    </tr>\n",
       "    <tr>\n",
       "      <th>4</th>\n",
       "      <td>109008</td>\n",
       "      <td>20964</td>\n",
       "    </tr>\n",
       "  </tbody>\n",
       "</table>\n",
       "</div>"
      ],
      "text/plain": [
       "   individuals  family_members\n",
       "0         2570             864\n",
       "1         1434             582\n",
       "2         7259            2606\n",
       "3         2280             432\n",
       "4       109008           20964"
      ]
     },
     "execution_count": 88,
     "metadata": {},
     "output_type": "execute_result"
    }
   ],
   "source": [
    "state_fam = homeless_data[[\"individuals\", \"family_members\"]]\n",
    "state_fam.head()"
   ]
  },
  {
   "cell_type": "markdown",
   "metadata": {},
   "source": [
    "A more interesting way to filter columns out of a data frame is by creating `True`of `False` logical conditions. Pass that statement into square brackets.\n",
    "This is in my opinion one of the **most important** ways to subset data. "
   ]
  },
  {
   "cell_type": "code",
   "execution_count": 94,
   "metadata": {
    "scrolled": true
   },
   "outputs": [
    {
     "data": {
      "text/html": [
       "<div>\n",
       "<style scoped>\n",
       "    .dataframe tbody tr th:only-of-type {\n",
       "        vertical-align: middle;\n",
       "    }\n",
       "\n",
       "    .dataframe tbody tr th {\n",
       "        vertical-align: top;\n",
       "    }\n",
       "\n",
       "    .dataframe thead th {\n",
       "        text-align: right;\n",
       "    }\n",
       "</style>\n",
       "<table border=\"1\" class=\"dataframe\">\n",
       "  <thead>\n",
       "    <tr style=\"text-align: right;\">\n",
       "      <th></th>\n",
       "      <th>region</th>\n",
       "      <th>state</th>\n",
       "      <th>individuals</th>\n",
       "      <th>family_members</th>\n",
       "      <th>state_pop</th>\n",
       "    </tr>\n",
       "  </thead>\n",
       "  <tbody>\n",
       "    <tr>\n",
       "      <th>4</th>\n",
       "      <td>Pacific</td>\n",
       "      <td>California</td>\n",
       "      <td>109008</td>\n",
       "      <td>20964</td>\n",
       "      <td>39461588</td>\n",
       "    </tr>\n",
       "    <tr>\n",
       "      <th>9</th>\n",
       "      <td>South Atlantic</td>\n",
       "      <td>Florida</td>\n",
       "      <td>21443</td>\n",
       "      <td>9587</td>\n",
       "      <td>21244317</td>\n",
       "    </tr>\n",
       "    <tr>\n",
       "      <th>32</th>\n",
       "      <td>Mid-Atlantic</td>\n",
       "      <td>New York</td>\n",
       "      <td>39827</td>\n",
       "      <td>52070</td>\n",
       "      <td>19530351</td>\n",
       "    </tr>\n",
       "    <tr>\n",
       "      <th>37</th>\n",
       "      <td>Pacific</td>\n",
       "      <td>Oregon</td>\n",
       "      <td>11139</td>\n",
       "      <td>3337</td>\n",
       "      <td>4181886</td>\n",
       "    </tr>\n",
       "    <tr>\n",
       "      <th>43</th>\n",
       "      <td>West South Central</td>\n",
       "      <td>Texas</td>\n",
       "      <td>19199</td>\n",
       "      <td>6111</td>\n",
       "      <td>28628666</td>\n",
       "    </tr>\n",
       "    <tr>\n",
       "      <th>47</th>\n",
       "      <td>Pacific</td>\n",
       "      <td>Washington</td>\n",
       "      <td>16424</td>\n",
       "      <td>5880</td>\n",
       "      <td>7523869</td>\n",
       "    </tr>\n",
       "  </tbody>\n",
       "</table>\n",
       "</div>"
      ],
      "text/plain": [
       "                region       state  individuals  family_members  state_pop\n",
       "4              Pacific  California       109008           20964   39461588\n",
       "9       South Atlantic     Florida        21443            9587   21244317\n",
       "32        Mid-Atlantic    New York        39827           52070   19530351\n",
       "37             Pacific      Oregon        11139            3337    4181886\n",
       "43  West South Central       Texas        19199            6111   28628666\n",
       "47             Pacific  Washington        16424            5880    7523869"
      ]
     },
     "execution_count": 94,
     "metadata": {},
     "output_type": "execute_result"
    }
   ],
   "source": [
    "ind_gt_9k = homeless_data[homeless_data[\"individuals\"] > 9000]\n",
    "ind_gt_9k"
   ]
  },
  {
   "cell_type": "code",
   "execution_count": 95,
   "metadata": {},
   "outputs": [],
   "source": [
    "fam_lt_1k_mnt = homeless_data[(homeless_data[\"family_members\"] < 1000) & (homeless_data[\"region\"] == \"Pacific\")]\n",
    "fam_lt_1k_or_mnt = homeless_data[(homeless_data[\"family_members\"] < 1000) | (homeless_data[\"region\"] == \"Pacific\")]"
   ]
  },
  {
   "cell_type": "code",
   "execution_count": 98,
   "metadata": {},
   "outputs": [
    {
     "data": {
      "text/html": [
       "<div>\n",
       "<style scoped>\n",
       "    .dataframe tbody tr th:only-of-type {\n",
       "        vertical-align: middle;\n",
       "    }\n",
       "\n",
       "    .dataframe tbody tr th {\n",
       "        vertical-align: top;\n",
       "    }\n",
       "\n",
       "    .dataframe thead th {\n",
       "        text-align: right;\n",
       "    }\n",
       "</style>\n",
       "<table border=\"1\" class=\"dataframe\">\n",
       "  <thead>\n",
       "    <tr style=\"text-align: right;\">\n",
       "      <th></th>\n",
       "      <th>region</th>\n",
       "      <th>state</th>\n",
       "      <th>individuals</th>\n",
       "      <th>family_members</th>\n",
       "      <th>state_pop</th>\n",
       "    </tr>\n",
       "  </thead>\n",
       "  <tbody>\n",
       "    <tr>\n",
       "      <th>1</th>\n",
       "      <td>Pacific</td>\n",
       "      <td>Alaska</td>\n",
       "      <td>1434</td>\n",
       "      <td>582</td>\n",
       "      <td>735139</td>\n",
       "    </tr>\n",
       "  </tbody>\n",
       "</table>\n",
       "</div>"
      ],
      "text/plain": [
       "    region   state  individuals  family_members  state_pop\n",
       "1  Pacific  Alaska         1434             582     735139"
      ]
     },
     "execution_count": 98,
     "metadata": {},
     "output_type": "execute_result"
    }
   ],
   "source": [
    "fam_lt_1k_mnt.head()"
   ]
  },
  {
   "cell_type": "code",
   "execution_count": 99,
   "metadata": {},
   "outputs": [
    {
     "data": {
      "text/html": [
       "<div>\n",
       "<style scoped>\n",
       "    .dataframe tbody tr th:only-of-type {\n",
       "        vertical-align: middle;\n",
       "    }\n",
       "\n",
       "    .dataframe tbody tr th {\n",
       "        vertical-align: top;\n",
       "    }\n",
       "\n",
       "    .dataframe thead th {\n",
       "        text-align: right;\n",
       "    }\n",
       "</style>\n",
       "<table border=\"1\" class=\"dataframe\">\n",
       "  <thead>\n",
       "    <tr style=\"text-align: right;\">\n",
       "      <th></th>\n",
       "      <th>region</th>\n",
       "      <th>state</th>\n",
       "      <th>individuals</th>\n",
       "      <th>family_members</th>\n",
       "      <th>state_pop</th>\n",
       "    </tr>\n",
       "  </thead>\n",
       "  <tbody>\n",
       "    <tr>\n",
       "      <th>0</th>\n",
       "      <td>East South Central</td>\n",
       "      <td>Alabama</td>\n",
       "      <td>2570</td>\n",
       "      <td>864</td>\n",
       "      <td>4887681</td>\n",
       "    </tr>\n",
       "    <tr>\n",
       "      <th>1</th>\n",
       "      <td>Pacific</td>\n",
       "      <td>Alaska</td>\n",
       "      <td>1434</td>\n",
       "      <td>582</td>\n",
       "      <td>735139</td>\n",
       "    </tr>\n",
       "    <tr>\n",
       "      <th>3</th>\n",
       "      <td>West South Central</td>\n",
       "      <td>Arkansas</td>\n",
       "      <td>2280</td>\n",
       "      <td>432</td>\n",
       "      <td>3009733</td>\n",
       "    </tr>\n",
       "    <tr>\n",
       "      <th>4</th>\n",
       "      <td>Pacific</td>\n",
       "      <td>California</td>\n",
       "      <td>109008</td>\n",
       "      <td>20964</td>\n",
       "      <td>39461588</td>\n",
       "    </tr>\n",
       "    <tr>\n",
       "      <th>7</th>\n",
       "      <td>South Atlantic</td>\n",
       "      <td>Delaware</td>\n",
       "      <td>708</td>\n",
       "      <td>374</td>\n",
       "      <td>965479</td>\n",
       "    </tr>\n",
       "  </tbody>\n",
       "</table>\n",
       "</div>"
      ],
      "text/plain": [
       "               region       state  individuals  family_members  state_pop\n",
       "0  East South Central     Alabama         2570             864    4887681\n",
       "1             Pacific      Alaska         1434             582     735139\n",
       "3  West South Central    Arkansas         2280             432    3009733\n",
       "4             Pacific  California       109008           20964   39461588\n",
       "7      South Atlantic    Delaware          708             374     965479"
      ]
     },
     "execution_count": 99,
     "metadata": {},
     "output_type": "execute_result"
    }
   ],
   "source": [
    "fam_lt_1k_or_mnt.head()"
   ]
  },
  {
   "cell_type": "code",
   "execution_count": 100,
   "metadata": {},
   "outputs": [
    {
     "data": {
      "text/html": [
       "<div>\n",
       "<style scoped>\n",
       "    .dataframe tbody tr th:only-of-type {\n",
       "        vertical-align: middle;\n",
       "    }\n",
       "\n",
       "    .dataframe tbody tr th {\n",
       "        vertical-align: top;\n",
       "    }\n",
       "\n",
       "    .dataframe thead th {\n",
       "        text-align: right;\n",
       "    }\n",
       "</style>\n",
       "<table border=\"1\" class=\"dataframe\">\n",
       "  <thead>\n",
       "    <tr style=\"text-align: right;\">\n",
       "      <th></th>\n",
       "      <th>region</th>\n",
       "      <th>state</th>\n",
       "      <th>individuals</th>\n",
       "      <th>family_members</th>\n",
       "      <th>state_pop</th>\n",
       "    </tr>\n",
       "  </thead>\n",
       "  <tbody>\n",
       "    <tr>\n",
       "      <th>2</th>\n",
       "      <td>Mountain</td>\n",
       "      <td>Arizona</td>\n",
       "      <td>7259</td>\n",
       "      <td>2606</td>\n",
       "      <td>7158024</td>\n",
       "    </tr>\n",
       "    <tr>\n",
       "      <th>4</th>\n",
       "      <td>Pacific</td>\n",
       "      <td>California</td>\n",
       "      <td>109008</td>\n",
       "      <td>20964</td>\n",
       "      <td>39461588</td>\n",
       "    </tr>\n",
       "    <tr>\n",
       "      <th>28</th>\n",
       "      <td>Mountain</td>\n",
       "      <td>Nevada</td>\n",
       "      <td>7058</td>\n",
       "      <td>486</td>\n",
       "      <td>3027341</td>\n",
       "    </tr>\n",
       "    <tr>\n",
       "      <th>44</th>\n",
       "      <td>Mountain</td>\n",
       "      <td>Utah</td>\n",
       "      <td>1904</td>\n",
       "      <td>972</td>\n",
       "      <td>3153550</td>\n",
       "    </tr>\n",
       "  </tbody>\n",
       "</table>\n",
       "</div>"
      ],
      "text/plain": [
       "      region       state  individuals  family_members  state_pop\n",
       "2   Mountain     Arizona         7259            2606    7158024\n",
       "4    Pacific  California       109008           20964   39461588\n",
       "28  Mountain      Nevada         7058             486    3027341\n",
       "44  Mountain        Utah         1904             972    3153550"
      ]
     },
     "execution_count": 100,
     "metadata": {},
     "output_type": "execute_result"
    }
   ],
   "source": [
    "mojave_states = [\"California\", \"Arizona\", \"Nevada\", \"Utah\"]\n",
    "mojave_homeless = homeless_data[homeless_data[\"state\"].isin(mojave_states)]\n",
    "mojave_homeless"
   ]
  },
  {
   "cell_type": "markdown",
   "metadata": {},
   "source": [
    "#### Exercise"
   ]
  },
  {
   "cell_type": "code",
   "execution_count": 60,
   "metadata": {},
   "outputs": [],
   "source": [
    "# Use the Walmart sales dataset\n",
    "# Extract the weekly sales column, assign it to a variable and print it out\n",
    "# Extract the unemployment, type column, assign it to a variable and print it out\n",
    "# Extract the store, date column, assign it to a variable and print it out\n",
    "# Extract only stores of type \"B\", assign it to a variable and print it out\n",
    "# Extract only stores with weekly sales higher than 20.000, assign it to a variable and print it out\n",
    "# Extract only stores were the temperature was bigger than 25 degrees and unemployment higher than 7, assign it to a variable and print it out\n",
    "# Extract only stores were weekly sales are over 30.000 or unemployment is under 3"
   ]
  },
  {
   "cell_type": "markdown",
   "metadata": {},
   "source": [
    "------"
   ]
  },
  {
   "cell_type": "markdown",
   "metadata": {},
   "source": [
    "### Creating new columns\n",
    "<a id='pd6'></a>"
   ]
  },
  {
   "cell_type": "markdown",
   "metadata": {},
   "source": [
    "Sometimes it is also quite nice to add new columns e.g temperature also in °F or °C or price of a product in a different currency. Let's have a look how we can do this."
   ]
  },
  {
   "cell_type": "code",
   "execution_count": 106,
   "metadata": {
    "scrolled": true
   },
   "outputs": [
    {
     "data": {
      "text/html": [
       "<div>\n",
       "<style scoped>\n",
       "    .dataframe tbody tr th:only-of-type {\n",
       "        vertical-align: middle;\n",
       "    }\n",
       "\n",
       "    .dataframe tbody tr th {\n",
       "        vertical-align: top;\n",
       "    }\n",
       "\n",
       "    .dataframe thead th {\n",
       "        text-align: right;\n",
       "    }\n",
       "</style>\n",
       "<table border=\"1\" class=\"dataframe\">\n",
       "  <thead>\n",
       "    <tr style=\"text-align: right;\">\n",
       "      <th></th>\n",
       "      <th>region</th>\n",
       "      <th>state</th>\n",
       "      <th>individuals</th>\n",
       "      <th>family_members</th>\n",
       "      <th>state_pop</th>\n",
       "      <th>total</th>\n",
       "      <th>p_individuals</th>\n",
       "      <th>individuals_per_10k</th>\n",
       "    </tr>\n",
       "  </thead>\n",
       "  <tbody>\n",
       "    <tr>\n",
       "      <th>0</th>\n",
       "      <td>East South Central</td>\n",
       "      <td>Alabama</td>\n",
       "      <td>2570</td>\n",
       "      <td>864</td>\n",
       "      <td>4887681</td>\n",
       "      <td>3434</td>\n",
       "      <td>0.748398</td>\n",
       "      <td>5.258117</td>\n",
       "    </tr>\n",
       "    <tr>\n",
       "      <th>1</th>\n",
       "      <td>Pacific</td>\n",
       "      <td>Alaska</td>\n",
       "      <td>1434</td>\n",
       "      <td>582</td>\n",
       "      <td>735139</td>\n",
       "      <td>2016</td>\n",
       "      <td>0.711310</td>\n",
       "      <td>19.506515</td>\n",
       "    </tr>\n",
       "    <tr>\n",
       "      <th>2</th>\n",
       "      <td>Mountain</td>\n",
       "      <td>Arizona</td>\n",
       "      <td>7259</td>\n",
       "      <td>2606</td>\n",
       "      <td>7158024</td>\n",
       "      <td>9865</td>\n",
       "      <td>0.735834</td>\n",
       "      <td>10.141067</td>\n",
       "    </tr>\n",
       "    <tr>\n",
       "      <th>3</th>\n",
       "      <td>West South Central</td>\n",
       "      <td>Arkansas</td>\n",
       "      <td>2280</td>\n",
       "      <td>432</td>\n",
       "      <td>3009733</td>\n",
       "      <td>2712</td>\n",
       "      <td>0.840708</td>\n",
       "      <td>7.575423</td>\n",
       "    </tr>\n",
       "    <tr>\n",
       "      <th>4</th>\n",
       "      <td>Pacific</td>\n",
       "      <td>California</td>\n",
       "      <td>109008</td>\n",
       "      <td>20964</td>\n",
       "      <td>39461588</td>\n",
       "      <td>129972</td>\n",
       "      <td>0.838704</td>\n",
       "      <td>27.623825</td>\n",
       "    </tr>\n",
       "  </tbody>\n",
       "</table>\n",
       "</div>"
      ],
      "text/plain": [
       "               region       state  individuals  family_members  state_pop  \\\n",
       "0  East South Central     Alabama         2570             864    4887681   \n",
       "1             Pacific      Alaska         1434             582     735139   \n",
       "2            Mountain     Arizona         7259            2606    7158024   \n",
       "3  West South Central    Arkansas         2280             432    3009733   \n",
       "4             Pacific  California       109008           20964   39461588   \n",
       "\n",
       "    total  p_individuals  individuals_per_10k  \n",
       "0    3434       0.748398             5.258117  \n",
       "1    2016       0.711310            19.506515  \n",
       "2    9865       0.735834            10.141067  \n",
       "3    2712       0.840708             7.575423  \n",
       "4  129972       0.838704            27.623825  "
      ]
     },
     "execution_count": 106,
     "metadata": {},
     "output_type": "execute_result"
    }
   ],
   "source": [
    "# Adding a new column\n",
    "homeless_data[\"total\"]= homeless_data[\"individuals\"] + homeless_data[\"family_members\"]\n",
    "# Adding a p_individuals col as proportion of individuals\n",
    "homeless_data[\"p_individuals\"]=  homeless_data[\"individuals\"]/homeless_data[\"total\"]\n",
    "homeless_data.head()"
   ]
  },
  {
   "cell_type": "code",
   "execution_count": 107,
   "metadata": {},
   "outputs": [
    {
     "data": {
      "text/html": [
       "<div>\n",
       "<style scoped>\n",
       "    .dataframe tbody tr th:only-of-type {\n",
       "        vertical-align: middle;\n",
       "    }\n",
       "\n",
       "    .dataframe tbody tr th {\n",
       "        vertical-align: top;\n",
       "    }\n",
       "\n",
       "    .dataframe thead th {\n",
       "        text-align: right;\n",
       "    }\n",
       "</style>\n",
       "<table border=\"1\" class=\"dataframe\">\n",
       "  <thead>\n",
       "    <tr style=\"text-align: right;\">\n",
       "      <th></th>\n",
       "      <th>state</th>\n",
       "      <th>individuals_per_10k</th>\n",
       "    </tr>\n",
       "  </thead>\n",
       "  <tbody>\n",
       "    <tr>\n",
       "      <th>8</th>\n",
       "      <td>District of Columbia</td>\n",
       "      <td>53.738381</td>\n",
       "    </tr>\n",
       "    <tr>\n",
       "      <th>11</th>\n",
       "      <td>Hawaii</td>\n",
       "      <td>29.079406</td>\n",
       "    </tr>\n",
       "    <tr>\n",
       "      <th>4</th>\n",
       "      <td>California</td>\n",
       "      <td>27.623825</td>\n",
       "    </tr>\n",
       "    <tr>\n",
       "      <th>37</th>\n",
       "      <td>Oregon</td>\n",
       "      <td>26.636307</td>\n",
       "    </tr>\n",
       "    <tr>\n",
       "      <th>28</th>\n",
       "      <td>Nevada</td>\n",
       "      <td>23.314189</td>\n",
       "    </tr>\n",
       "  </tbody>\n",
       "</table>\n",
       "</div>"
      ],
      "text/plain": [
       "                   state  individuals_per_10k\n",
       "8   District of Columbia            53.738381\n",
       "11                Hawaii            29.079406\n",
       "4             California            27.623825\n",
       "37                Oregon            26.636307\n",
       "28                Nevada            23.314189"
      ]
     },
     "execution_count": 107,
     "metadata": {},
     "output_type": "execute_result"
    }
   ],
   "source": [
    "# Adding individuals_per_10k  as homeless individuals per 10k state pop\n",
    "homeless_data[\"individuals_per_10k\"] = 10000 * homeless_data[\"individuals\"] / homeless_data[\"state_pop\"]\n",
    "\n",
    "# Subsetting for rows with individuals_per_10k greater than 15\n",
    "high_homelessness = homeless_data[homeless_data[\"individuals_per_10k\"] > 15]\n",
    "\n",
    "# Sorting high_homelessness individuals_per_10k, descending\n",
    "high_homelessness_srt = high_homelessness.sort_values(\"individuals_per_10k\", ascending=False)\n",
    "\n",
    "# From high_homelessness_srt, select the state and indiv_per_10k cols\n",
    "result = high_homelessness_srt[[\"state\", \"individuals_per_10k\"]]\n",
    "\n",
    "result.head()"
   ]
  },
  {
   "cell_type": "markdown",
   "metadata": {},
   "source": [
    "#### Exercise"
   ]
  },
  {
   "cell_type": "code",
   "execution_count": 62,
   "metadata": {},
   "outputs": [],
   "source": [
    "# Use the Walmart sales dataset\n",
    "# Create a new column that contains the fuel price per l in Euro (ca. *0.84), assign it to a variable\n",
    "# Subset for only holiday days in the stores and fuel price per l in Euro greater than 0.60, assign it to a variable\n",
    "# Sort the data frame ascending from the last task, assign it to a variable\n",
    "# Extract sales and fuel price per Euro, assign it to result\n",
    "# Print (head of) result"
   ]
  },
  {
   "cell_type": "markdown",
   "metadata": {},
   "source": [
    "------"
   ]
  },
  {
   "cell_type": "markdown",
   "metadata": {},
   "source": [
    "### Summary statistics\n",
    "<a id='pd6'></a>"
   ]
  },
  {
   "cell_type": "markdown",
   "metadata": {},
   "source": [
    "Summary statistics summarize many numbers in one statistic. For example, mean, median, minimum, maximum, and standard deviation are summary statistics. \n",
    "Summary statistics help us understand the data better. Useful functions are e.g:\n",
    "\n",
    "* `mean()`\n",
    "* `median()`\n",
    "* `max()`\n",
    "* `min()`\n",
    "* `agg(self_defined_functions)\n",
    "* `agg(Numpy_functions)"
   ]
  },
  {
   "cell_type": "code",
   "execution_count": 111,
   "metadata": {
    "scrolled": true
   },
   "outputs": [
    {
     "name": "stdout",
     "output_type": "stream",
     "text": [
      "Average of individuals:  7225.78431372549\n",
      "Average of individuals:  3082.0\n",
      "Maximum of individuals:  109008\n",
      "Minimum of individuals:  434\n"
     ]
    }
   ],
   "source": [
    "print(\"Average of individuals: \" , homeless_data[\"individuals\"].mean())\n",
    "print(\"Average of individuals: \" ,homeless_data[\"individuals\"].median())\n",
    "print(\"Maximum of individuals: \" ,homeless_data[\"individuals\"].max())\n",
    "print(\"Minimum of individuals: \" ,homeless_data[\"individuals\"].min())"
   ]
  },
  {
   "cell_type": "code",
   "execution_count": 140,
   "metadata": {},
   "outputs": [
    {
     "name": "stdout",
     "output_type": "stream",
     "text": [
      "------------------------------------------------------------------\n",
      "Interquantile Range of individuals:\n",
      "------------------------------------------------------------------\n",
      "5335.0\n",
      "------------------------------------------------------------------\n",
      "Interquantile Range of individuals, family members and state pop.:\n",
      "------------------------------------------------------------------\n",
      "individuals          5335.0\n",
      "family_members       2604.0\n",
      "state_pop         5563533.0\n",
      "dtype: float64\n",
      "------------------------------------------------------------------\n",
      "IQR and median of individuals, family members and state pop.:\n",
      "------------------------------------------------------------------\n",
      "        individuals  family_members  state_pop\n",
      "iqr          5335.0          2604.0  5563533.0\n",
      "median       3082.0          1482.0  4461153.0\n"
     ]
    }
   ],
   "source": [
    "# Defining a self-made IQR function\n",
    "def iqr(column):\n",
    "    return column.quantile(0.75) - column.quantile(0.25)\n",
    "\n",
    "print(\"------------------------------------------------------------------\")\n",
    "print(\"Interquantile Range of individuals:\")\n",
    "print(\"------------------------------------------------------------------\")\n",
    "print(homeless_data[\"individuals\"].agg(iqr))\n",
    "print(\"------------------------------------------------------------------\")\n",
    "print(\"Interquantile Range of individuals, family members and state pop.:\")\n",
    "print(\"------------------------------------------------------------------\")\n",
    "print(homeless_data[[\"individuals\", \"family_members\", \"state_pop\"]].agg(iqr))\n",
    "print(\"------------------------------------------------------------------\")\n",
    "print(\"IQR and median of individuals, family members and state pop.:\")\n",
    "print(\"------------------------------------------------------------------\")\n",
    "print(homeless_data[[\"individuals\", \"family_members\", \"state_pop\"]].agg([iqr, np.median]))"
   ]
  },
  {
   "cell_type": "markdown",
   "metadata": {},
   "source": [
    "#### Exercise"
   ]
  },
  {
   "cell_type": "code",
   "execution_count": 64,
   "metadata": {},
   "outputs": [],
   "source": [
    "# Use the Walmart sales dataset\n",
    "# Print the mean of weekly_sales\n",
    "# Print the median of weekly_sales\n",
    "# Print the maximum of date \n",
    "# Print the minimum the date\n",
    "# Def your own function to calculate the range (maximum - minimum) of the weekly sales column\n",
    "# Calculate the range of temperature_c, fuel_price_usd_per_l and unemployment"
   ]
  },
  {
   "cell_type": "markdown",
   "metadata": {},
   "source": [
    "------"
   ]
  },
  {
   "cell_type": "markdown",
   "metadata": {},
   "source": [
    "### Cumulative statistics\n",
    "<a id='pd7'></a>"
   ]
  },
  {
   "cell_type": "markdown",
   "metadata": {},
   "source": [
    "Cumulative statistics can be helpful in order to track summary statistics over time. Some basic functions are: \n",
    "* `cummax()`\n",
    "* `cummin()`\n",
    "* `cumprod()`"
   ]
  },
  {
   "cell_type": "code",
   "execution_count": 115,
   "metadata": {
    "scrolled": true
   },
   "outputs": [
    {
     "data": {
      "text/html": [
       "<div>\n",
       "<style scoped>\n",
       "    .dataframe tbody tr th:only-of-type {\n",
       "        vertical-align: middle;\n",
       "    }\n",
       "\n",
       "    .dataframe tbody tr th {\n",
       "        vertical-align: top;\n",
       "    }\n",
       "\n",
       "    .dataframe thead th {\n",
       "        text-align: right;\n",
       "    }\n",
       "</style>\n",
       "<table border=\"1\" class=\"dataframe\">\n",
       "  <thead>\n",
       "    <tr style=\"text-align: right;\">\n",
       "      <th></th>\n",
       "      <th>state</th>\n",
       "      <th>individuals</th>\n",
       "      <th>individuals_cumsum</th>\n",
       "      <th>individuals_cummax</th>\n",
       "    </tr>\n",
       "  </thead>\n",
       "  <tbody>\n",
       "    <tr>\n",
       "      <th>0</th>\n",
       "      <td>Alabama</td>\n",
       "      <td>2570</td>\n",
       "      <td>2570</td>\n",
       "      <td>2570</td>\n",
       "    </tr>\n",
       "    <tr>\n",
       "      <th>1</th>\n",
       "      <td>Alaska</td>\n",
       "      <td>1434</td>\n",
       "      <td>4004</td>\n",
       "      <td>2570</td>\n",
       "    </tr>\n",
       "    <tr>\n",
       "      <th>2</th>\n",
       "      <td>Arizona</td>\n",
       "      <td>7259</td>\n",
       "      <td>11263</td>\n",
       "      <td>7259</td>\n",
       "    </tr>\n",
       "    <tr>\n",
       "      <th>3</th>\n",
       "      <td>Arkansas</td>\n",
       "      <td>2280</td>\n",
       "      <td>13543</td>\n",
       "      <td>7259</td>\n",
       "    </tr>\n",
       "    <tr>\n",
       "      <th>4</th>\n",
       "      <td>California</td>\n",
       "      <td>109008</td>\n",
       "      <td>122551</td>\n",
       "      <td>109008</td>\n",
       "    </tr>\n",
       "  </tbody>\n",
       "</table>\n",
       "</div>"
      ],
      "text/plain": [
       "        state  individuals  individuals_cumsum  individuals_cummax\n",
       "0     Alabama         2570                2570                2570\n",
       "1      Alaska         1434                4004                2570\n",
       "2     Arizona         7259               11263                7259\n",
       "3    Arkansas         2280               13543                7259\n",
       "4  California       109008              122551              109008"
      ]
     },
     "execution_count": 115,
     "metadata": {},
     "output_type": "execute_result"
    }
   ],
   "source": [
    "# Sort homeless_data by state\n",
    "homeless_by_state = homeless_data.sort_values(\"state\")\n",
    "\n",
    "# Cumulative sum of individuals\n",
    "homeless_by_state[\"individuals_cumsum\"] = homeless_by_state[\"individuals\"].cumsum()\n",
    "\n",
    "# Cumulative max of individuals\n",
    "homeless_by_state[\"individuals_cummax\"] = homeless_by_state[\"individuals\"].cummax()\n",
    "\n",
    "# Columns calculated\n",
    "homeless_by_state[[\"state\", \"individuals\", \"individuals_cumsum\",\"individuals_cummax\"]].head()"
   ]
  },
  {
   "cell_type": "markdown",
   "metadata": {},
   "source": [
    "#### Exercise"
   ]
  },
  {
   "cell_type": "code",
   "execution_count": 66,
   "metadata": {},
   "outputs": [],
   "source": [
    "# Use the Walmart sales dataset\n",
    "# Sort sales by date\n",
    "# Get the cumulative sum of weekly_sales and add as cum_weekly_sales col\n",
    "# Get the cumulative max of weekly_sales, add as cum_max_sales col\n",
    "# Print the columns you calculated"
   ]
  },
  {
   "cell_type": "markdown",
   "metadata": {},
   "source": [
    "-----"
   ]
  },
  {
   "cell_type": "markdown",
   "metadata": {},
   "source": [
    "### Dropping duplicates\n",
    "<a id='pd8'></a>"
   ]
  },
  {
   "cell_type": "markdown",
   "metadata": {},
   "source": [
    "It is an essential skill to remove duplicates get accurate counts because often, you don't want to count the same thing multiple times. \n",
    "Useful function in this case is `drop_duplicates(subset= ... )."
   ]
  },
  {
   "cell_type": "code",
   "execution_count": 116,
   "metadata": {
    "scrolled": true
   },
   "outputs": [
    {
     "data": {
      "text/html": [
       "<div>\n",
       "<style scoped>\n",
       "    .dataframe tbody tr th:only-of-type {\n",
       "        vertical-align: middle;\n",
       "    }\n",
       "\n",
       "    .dataframe tbody tr th {\n",
       "        vertical-align: top;\n",
       "    }\n",
       "\n",
       "    .dataframe thead th {\n",
       "        text-align: right;\n",
       "    }\n",
       "</style>\n",
       "<table border=\"1\" class=\"dataframe\">\n",
       "  <thead>\n",
       "    <tr style=\"text-align: right;\">\n",
       "      <th></th>\n",
       "      <th>region</th>\n",
       "      <th>state</th>\n",
       "      <th>individuals</th>\n",
       "      <th>family_members</th>\n",
       "      <th>state_pop</th>\n",
       "      <th>total</th>\n",
       "      <th>p_individuals</th>\n",
       "      <th>individuals_per_10k</th>\n",
       "    </tr>\n",
       "  </thead>\n",
       "  <tbody>\n",
       "    <tr>\n",
       "      <th>0</th>\n",
       "      <td>East South Central</td>\n",
       "      <td>Alabama</td>\n",
       "      <td>2570</td>\n",
       "      <td>864</td>\n",
       "      <td>4887681</td>\n",
       "      <td>3434</td>\n",
       "      <td>0.748398</td>\n",
       "      <td>5.258117</td>\n",
       "    </tr>\n",
       "    <tr>\n",
       "      <th>1</th>\n",
       "      <td>Pacific</td>\n",
       "      <td>Alaska</td>\n",
       "      <td>1434</td>\n",
       "      <td>582</td>\n",
       "      <td>735139</td>\n",
       "      <td>2016</td>\n",
       "      <td>0.711310</td>\n",
       "      <td>19.506515</td>\n",
       "    </tr>\n",
       "    <tr>\n",
       "      <th>2</th>\n",
       "      <td>Mountain</td>\n",
       "      <td>Arizona</td>\n",
       "      <td>7259</td>\n",
       "      <td>2606</td>\n",
       "      <td>7158024</td>\n",
       "      <td>9865</td>\n",
       "      <td>0.735834</td>\n",
       "      <td>10.141067</td>\n",
       "    </tr>\n",
       "    <tr>\n",
       "      <th>3</th>\n",
       "      <td>West South Central</td>\n",
       "      <td>Arkansas</td>\n",
       "      <td>2280</td>\n",
       "      <td>432</td>\n",
       "      <td>3009733</td>\n",
       "      <td>2712</td>\n",
       "      <td>0.840708</td>\n",
       "      <td>7.575423</td>\n",
       "    </tr>\n",
       "    <tr>\n",
       "      <th>4</th>\n",
       "      <td>Pacific</td>\n",
       "      <td>California</td>\n",
       "      <td>109008</td>\n",
       "      <td>20964</td>\n",
       "      <td>39461588</td>\n",
       "      <td>129972</td>\n",
       "      <td>0.838704</td>\n",
       "      <td>27.623825</td>\n",
       "    </tr>\n",
       "  </tbody>\n",
       "</table>\n",
       "</div>"
      ],
      "text/plain": [
       "               region       state  individuals  family_members  state_pop  \\\n",
       "0  East South Central     Alabama         2570             864    4887681   \n",
       "1             Pacific      Alaska         1434             582     735139   \n",
       "2            Mountain     Arizona         7259            2606    7158024   \n",
       "3  West South Central    Arkansas         2280             432    3009733   \n",
       "4             Pacific  California       109008           20964   39461588   \n",
       "\n",
       "    total  p_individuals  individuals_per_10k  \n",
       "0    3434       0.748398             5.258117  \n",
       "1    2016       0.711310            19.506515  \n",
       "2    9865       0.735834            10.141067  \n",
       "3    2712       0.840708             7.575423  \n",
       "4  129972       0.838704            27.623825  "
      ]
     },
     "execution_count": 116,
     "metadata": {},
     "output_type": "execute_result"
    }
   ],
   "source": [
    "homeless_regions = homeless_data.drop_duplicates(subset = [\"region\", \"state_pop\"])\n",
    "homeless_regions.head()"
   ]
  },
  {
   "cell_type": "code",
   "execution_count": 117,
   "metadata": {},
   "outputs": [
    {
     "data": {
      "text/html": [
       "<div>\n",
       "<style scoped>\n",
       "    .dataframe tbody tr th:only-of-type {\n",
       "        vertical-align: middle;\n",
       "    }\n",
       "\n",
       "    .dataframe tbody tr th {\n",
       "        vertical-align: top;\n",
       "    }\n",
       "\n",
       "    .dataframe thead th {\n",
       "        text-align: right;\n",
       "    }\n",
       "</style>\n",
       "<table border=\"1\" class=\"dataframe\">\n",
       "  <thead>\n",
       "    <tr style=\"text-align: right;\">\n",
       "      <th></th>\n",
       "      <th>region</th>\n",
       "      <th>state</th>\n",
       "    </tr>\n",
       "  </thead>\n",
       "  <tbody>\n",
       "    <tr>\n",
       "      <th>2</th>\n",
       "      <td>Mountain</td>\n",
       "      <td>Arizona</td>\n",
       "    </tr>\n",
       "    <tr>\n",
       "      <th>5</th>\n",
       "      <td>Mountain</td>\n",
       "      <td>Colorado</td>\n",
       "    </tr>\n",
       "    <tr>\n",
       "      <th>12</th>\n",
       "      <td>Mountain</td>\n",
       "      <td>Idaho</td>\n",
       "    </tr>\n",
       "    <tr>\n",
       "      <th>26</th>\n",
       "      <td>Mountain</td>\n",
       "      <td>Montana</td>\n",
       "    </tr>\n",
       "    <tr>\n",
       "      <th>28</th>\n",
       "      <td>Mountain</td>\n",
       "      <td>Nevada</td>\n",
       "    </tr>\n",
       "    <tr>\n",
       "      <th>31</th>\n",
       "      <td>Mountain</td>\n",
       "      <td>New Mexico</td>\n",
       "    </tr>\n",
       "    <tr>\n",
       "      <th>44</th>\n",
       "      <td>Mountain</td>\n",
       "      <td>Utah</td>\n",
       "    </tr>\n",
       "    <tr>\n",
       "      <th>50</th>\n",
       "      <td>Mountain</td>\n",
       "      <td>Wyoming</td>\n",
       "    </tr>\n",
       "  </tbody>\n",
       "</table>\n",
       "</div>"
      ],
      "text/plain": [
       "      region       state\n",
       "2   Mountain     Arizona\n",
       "5   Mountain    Colorado\n",
       "12  Mountain       Idaho\n",
       "26  Mountain     Montana\n",
       "28  Mountain      Nevada\n",
       "31  Mountain  New Mexico\n",
       "44  Mountain        Utah\n",
       "50  Mountain     Wyoming"
      ]
     },
     "execution_count": 117,
     "metadata": {},
     "output_type": "execute_result"
    }
   ],
   "source": [
    "# Subset the rows where region is Mountain and drop all duplicate states\n",
    "homeless_mnt_regions = homeless_data[homeless_data[\"region\"] == \"Mountain\"].drop_duplicates(subset = \"state\")\n",
    "homeless_mnt_regions[[\"region\", \"state\"]]"
   ]
  },
  {
   "cell_type": "markdown",
   "metadata": {},
   "source": [
    "#### Exercise"
   ]
  },
  {
   "cell_type": "code",
   "execution_count": 68,
   "metadata": {},
   "outputs": [],
   "source": [
    "# Use the Walmart sales dataset\n",
    "# Drop duplicate store/type combinations\n",
    "# Drop duplicate store/department combinations\n",
    "# Subset the rows where is_holiday is True and drop duplicate dates, assign it to a variable\n",
    "# Print date col your new column"
   ]
  },
  {
   "cell_type": "markdown",
   "metadata": {},
   "source": [
    "-----"
   ]
  },
  {
   "cell_type": "markdown",
   "metadata": {},
   "source": [
    "### Counting\n",
    "<a id='pd9'></a>"
   ]
  },
  {
   "cell_type": "markdown",
   "metadata": {},
   "source": [
    "Sometimes we can get a nice overview of our dataset by counting e.g. the number of product types, regions or female, male individuals.\n",
    "Counting most of the time only makes sense when you have categorical data.\n",
    "So how can we count? Of course you could go through your data set, but let's be honest we are not living in the stone-age.\n",
    "We can use the following function:\n",
    "* `value_counts(sort = True/False, normalize = True/False)`\n",
    "If we set normalize to true the function will return. the proportion."
   ]
  },
  {
   "cell_type": "code",
   "execution_count": 121,
   "metadata": {
    "scrolled": true
   },
   "outputs": [
    {
     "name": "stdout",
     "output_type": "stream",
     "text": [
      "------------------------------------------\n",
      "Total amount of the regions:\n",
      "------------------------------------------\n",
      "South Atlantic        9\n",
      "Mountain              8\n",
      "West North Central    7\n",
      "New England           6\n",
      "East North Central    5\n",
      "Pacific               5\n",
      "East South Central    4\n",
      "West South Central    4\n",
      "Mid-Atlantic          3\n",
      "Name: region, dtype: int64\n",
      "------------------------------------------\n",
      "Proportional amount of the regions:\n",
      "------------------------------------------\n",
      "South Atlantic        0.176471\n",
      "Mountain              0.156863\n",
      "West North Central    0.137255\n",
      "New England           0.117647\n",
      "East North Central    0.098039\n",
      "Pacific               0.098039\n",
      "East South Central    0.078431\n",
      "West South Central    0.078431\n",
      "Mid-Atlantic          0.058824\n",
      "Name: region, dtype: float64\n",
      "------------------------------------------\n",
      "Sorted total amount of the regions:\n",
      "------------------------------------------\n",
      "South Atlantic        9\n",
      "Mountain              8\n",
      "West North Central    7\n",
      "New England           6\n",
      "East North Central    5\n",
      "Pacific               5\n",
      "East South Central    4\n",
      "West South Central    4\n",
      "Mid-Atlantic          3\n",
      "Name: region, dtype: int64\n",
      "------------------------------------------\n",
      "Sorted proportional amount of the regions:\n",
      "------------------------------------------\n",
      "South Atlantic        0.176471\n",
      "Mountain              0.156863\n",
      "West North Central    0.137255\n",
      "New England           0.117647\n",
      "East North Central    0.098039\n",
      "Pacific               0.098039\n",
      "East South Central    0.078431\n",
      "West South Central    0.078431\n",
      "Mid-Atlantic          0.058824\n",
      "Name: region, dtype: float64\n"
     ]
    }
   ],
   "source": [
    "# Count the number of regions \n",
    "print(\"------------------------------------------\")\n",
    "print(\"Total amount of the regions:\")\n",
    "print(\"------------------------------------------\")\n",
    "region_counts = homeless_data[\"region\"].value_counts()\n",
    "print(region_counts)\n",
    "\n",
    "# Get the proportion regions \n",
    "print(\"------------------------------------------\")\n",
    "print(\"Proportional amount of the regions:\")\n",
    "print(\"------------------------------------------\")\n",
    "region_props = homeless_data[\"region\"].value_counts(normalize= True)\n",
    "print(region_props)\n",
    "\n",
    "# Count the number of each region and sort\n",
    "print(\"------------------------------------------\")\n",
    "print(\"Sorted total amount of the regions:\")\n",
    "print(\"------------------------------------------\")\n",
    "region_counts_sorted = homeless_data[\"region\"].value_counts(sort= True)\n",
    "print(region_counts_sorted)\n",
    "\n",
    "# Proportion of regions of and sort\n",
    "print(\"------------------------------------------\")\n",
    "print(\"Sorted proportional amount of the regions:\")\n",
    "print(\"------------------------------------------\")\n",
    "region_props_sorted = homeless_data[\"region\"].value_counts(sort=True, normalize=True)\n",
    "print(region_props_sorted)"
   ]
  },
  {
   "cell_type": "markdown",
   "metadata": {},
   "source": [
    "#### Exercise"
   ]
  },
  {
   "cell_type": "code",
   "execution_count": 70,
   "metadata": {},
   "outputs": [],
   "source": [
    "# Use the Walmart sales dataset\n",
    "# Count the number of stores of each store type in store_types\n",
    "# Count the proportion of stores of each store type in store_types.\n",
    "# Count the number of different departments in store_depts, sorting the counts in descending order.\n",
    "# Count the proportion of different departments in store_depts, sorting the proportions in descending order."
   ]
  },
  {
   "cell_type": "markdown",
   "metadata": {},
   "source": [
    "------"
   ]
  },
  {
   "cell_type": "markdown",
   "metadata": {},
   "source": [
    "### Grouping\n",
    "<a id='pd10'></a>"
   ]
  },
  {
   "cell_type": "markdown",
   "metadata": {},
   "source": [
    "Sometimes we want to get summary statistics for each category of categorical variables. For example efficience for different types of shipping, advertising etc.\n",
    "We can either create groups manually like this: "
   ]
  },
  {
   "cell_type": "code",
   "execution_count": 122,
   "metadata": {
    "scrolled": true
   },
   "outputs": [
    {
     "data": {
      "text/plain": [
       "array([0.15523893, 0.77445649, 0.07030458])"
      ]
     },
     "execution_count": 122,
     "metadata": {},
     "output_type": "execute_result"
    }
   ],
   "source": [
    "regions = [\"Mountain\", \"Pacific\", \"New England\"]\n",
    "# Subset for desired regions\n",
    "homeless_regions = homeless_data[homeless_data[\"region\"].isin(regions)]\n",
    "\n",
    "# Calculate total amount of homeless peope in these regions\n",
    "homeless_data_all =  homeless_regions[\"individuals\"].sum()\n",
    "\n",
    "# Subset for mountain region , calc total individuals\n",
    "mnt = homeless_data[homeless_data[\"region\"] == \"Mountain\"][\"individuals\"].sum()\n",
    "\n",
    "# Subset for pacific region, calc total individuals\n",
    "pac = homeless_data[homeless_data[\"region\"] == \"Pacific\"][\"individuals\"].sum()\n",
    "\n",
    "# Subset for New England region, calc total individuals\n",
    "new = homeless_data[homeless_data[\"region\"] == \"New England\"][\"individuals\"].sum()\n",
    "\n",
    "# Get proportion for each type\n",
    "homeless_prop_by_region = [mnt, pac, new] / homeless_data_all\n",
    "\n",
    "homeless_prop_by_region"
   ]
  },
  {
   "cell_type": "markdown",
   "metadata": {},
   "source": [
    "#### Exercise"
   ]
  },
  {
   "cell_type": "code",
   "execution_count": 12,
   "metadata": {},
   "outputs": [],
   "source": [
    "# Use the Walmart sales dataset\n",
    "# Calculate the total weekly_sales over the whole dataset.\n",
    "# Subset for type \"A\" stores, and calculate their total weekly sales.\n",
    "# Do the same for type \"B\" and type \"C\" stores.\n",
    "# Combine the A/B/C results into a list, and divide by sales_all to get the proportion of sales by type."
   ]
  },
  {
   "cell_type": "markdown",
   "metadata": {},
   "source": [
    "... or we can use the `groupby()` function which will save us a lot of time."
   ]
  },
  {
   "cell_type": "code",
   "execution_count": 123,
   "metadata": {},
   "outputs": [
    {
     "data": {
      "text/plain": [
       "region\n",
       "East North Central    0.068942\n",
       "East South Central    0.033833\n",
       "Mid-Atlantic          0.146637\n",
       "Mountain              0.077313\n",
       "New England           0.035014\n",
       "Pacific               0.385699\n",
       "South Atlantic        0.141812\n",
       "West North Central    0.037912\n",
       "West South Central    0.072838\n",
       "Name: individuals, dtype: float64"
      ]
     },
     "execution_count": 123,
     "metadata": {},
     "output_type": "execute_result"
    }
   ],
   "source": [
    "# Group by region; calc total individuals\n",
    "homeless_data_by_region = homeless_data.groupby(\"region\")[\"individuals\"].sum()\n",
    "\n",
    "# Get proportion for each region\n",
    "homeless_data_by_region_prop = homeless_data_by_region / sum(homeless_data[\"individuals\"])\n",
    "homeless_data_by_region_prop"
   ]
  },
  {
   "cell_type": "markdown",
   "metadata": {},
   "source": [
    "#### Exercise"
   ]
  },
  {
   "cell_type": "code",
   "execution_count": 15,
   "metadata": {},
   "outputs": [],
   "source": [
    "# Use the Walmart sales dataset\n",
    "# Group sales by \"type\", take the sum of \"weekly_sales\", and store as sales_by_type.\n",
    "# Calculate the proportion of sales at each store type by dividing by the sum of sales_by_type. Assign to sales_propn_by_type"
   ]
  },
  {
   "cell_type": "markdown",
   "metadata": {},
   "source": [
    "-----"
   ]
  },
  {
   "cell_type": "markdown",
   "metadata": {},
   "source": [
    "### Grouped summary statistics\n",
    "<a id='pd11'></a>"
   ]
  },
  {
   "cell_type": "markdown",
   "metadata": {},
   "source": [
    "Now we can also calculate multiple grouped summaries:"
   ]
  },
  {
   "cell_type": "code",
   "execution_count": 128,
   "metadata": {},
   "outputs": [
    {
     "data": {
      "text/html": [
       "<div>\n",
       "<style scoped>\n",
       "    .dataframe tbody tr th:only-of-type {\n",
       "        vertical-align: middle;\n",
       "    }\n",
       "\n",
       "    .dataframe tbody tr th {\n",
       "        vertical-align: top;\n",
       "    }\n",
       "\n",
       "    .dataframe thead th {\n",
       "        text-align: right;\n",
       "    }\n",
       "</style>\n",
       "<table border=\"1\" class=\"dataframe\">\n",
       "  <thead>\n",
       "    <tr style=\"text-align: right;\">\n",
       "      <th></th>\n",
       "      <th>amin</th>\n",
       "      <th>amax</th>\n",
       "      <th>mean</th>\n",
       "      <th>median</th>\n",
       "    </tr>\n",
       "    <tr>\n",
       "      <th>region</th>\n",
       "      <th></th>\n",
       "      <th></th>\n",
       "      <th></th>\n",
       "      <th></th>\n",
       "    </tr>\n",
       "  </thead>\n",
       "  <tbody>\n",
       "    <tr>\n",
       "      <th>East North Central</th>\n",
       "      <td>2740</td>\n",
       "      <td>6929</td>\n",
       "      <td>5081.200000</td>\n",
       "      <td>5209.0</td>\n",
       "    </tr>\n",
       "    <tr>\n",
       "      <th>East South Central</th>\n",
       "      <td>1024</td>\n",
       "      <td>6139</td>\n",
       "      <td>3117.000000</td>\n",
       "      <td>2652.5</td>\n",
       "    </tr>\n",
       "    <tr>\n",
       "      <th>Mid-Atlantic</th>\n",
       "      <td>6048</td>\n",
       "      <td>39827</td>\n",
       "      <td>18012.666667</td>\n",
       "      <td>8163.0</td>\n",
       "    </tr>\n",
       "    <tr>\n",
       "      <th>Mountain</th>\n",
       "      <td>434</td>\n",
       "      <td>7607</td>\n",
       "      <td>3561.375000</td>\n",
       "      <td>1926.5</td>\n",
       "    </tr>\n",
       "    <tr>\n",
       "      <th>New England</th>\n",
       "      <td>747</td>\n",
       "      <td>6811</td>\n",
       "      <td>2150.500000</td>\n",
       "      <td>1142.5</td>\n",
       "    </tr>\n",
       "    <tr>\n",
       "      <th>Pacific</th>\n",
       "      <td>1434</td>\n",
       "      <td>109008</td>\n",
       "      <td>28427.200000</td>\n",
       "      <td>11139.0</td>\n",
       "    </tr>\n",
       "    <tr>\n",
       "      <th>South Atlantic</th>\n",
       "      <td>708</td>\n",
       "      <td>21443</td>\n",
       "      <td>5806.666667</td>\n",
       "      <td>3928.0</td>\n",
       "    </tr>\n",
       "    <tr>\n",
       "      <th>West North Central</th>\n",
       "      <td>467</td>\n",
       "      <td>3993</td>\n",
       "      <td>1995.857143</td>\n",
       "      <td>1711.0</td>\n",
       "    </tr>\n",
       "    <tr>\n",
       "      <th>West South Central</th>\n",
       "      <td>2280</td>\n",
       "      <td>19199</td>\n",
       "      <td>6710.500000</td>\n",
       "      <td>2681.5</td>\n",
       "    </tr>\n",
       "  </tbody>\n",
       "</table>\n",
       "</div>"
      ],
      "text/plain": [
       "                    amin    amax          mean   median\n",
       "region                                                 \n",
       "East North Central  2740    6929   5081.200000   5209.0\n",
       "East South Central  1024    6139   3117.000000   2652.5\n",
       "Mid-Atlantic        6048   39827  18012.666667   8163.0\n",
       "Mountain             434    7607   3561.375000   1926.5\n",
       "New England          747    6811   2150.500000   1142.5\n",
       "Pacific             1434  109008  28427.200000  11139.0\n",
       "South Atlantic       708   21443   5806.666667   3928.0\n",
       "West North Central   467    3993   1995.857143   1711.0\n",
       "West South Central  2280   19199   6710.500000   2681.5"
      ]
     },
     "execution_count": 128,
     "metadata": {},
     "output_type": "execute_result"
    }
   ],
   "source": [
    "# For each region, aggregate individuals: get min, max, mean, and median\n",
    "homeless_stats = homeless_data.groupby(\"region\")[\"individuals\"].agg([np.min, np.max, np.mean, np.median])\n",
    "homeless_stats"
   ]
  },
  {
   "cell_type": "code",
   "execution_count": 129,
   "metadata": {},
   "outputs": [
    {
     "data": {
      "text/html": [
       "<div>\n",
       "<style scoped>\n",
       "    .dataframe tbody tr th:only-of-type {\n",
       "        vertical-align: middle;\n",
       "    }\n",
       "\n",
       "    .dataframe tbody tr th {\n",
       "        vertical-align: top;\n",
       "    }\n",
       "\n",
       "    .dataframe thead tr th {\n",
       "        text-align: left;\n",
       "    }\n",
       "\n",
       "    .dataframe thead tr:last-of-type th {\n",
       "        text-align: right;\n",
       "    }\n",
       "</style>\n",
       "<table border=\"1\" class=\"dataframe\">\n",
       "  <thead>\n",
       "    <tr>\n",
       "      <th></th>\n",
       "      <th colspan=\"4\" halign=\"left\">individuals</th>\n",
       "      <th colspan=\"4\" halign=\"left\">family_members</th>\n",
       "    </tr>\n",
       "    <tr>\n",
       "      <th></th>\n",
       "      <th>amin</th>\n",
       "      <th>amax</th>\n",
       "      <th>mean</th>\n",
       "      <th>median</th>\n",
       "      <th>amin</th>\n",
       "      <th>amax</th>\n",
       "      <th>mean</th>\n",
       "      <th>median</th>\n",
       "    </tr>\n",
       "    <tr>\n",
       "      <th>region</th>\n",
       "      <th></th>\n",
       "      <th></th>\n",
       "      <th></th>\n",
       "      <th></th>\n",
       "      <th></th>\n",
       "      <th></th>\n",
       "      <th></th>\n",
       "      <th></th>\n",
       "    </tr>\n",
       "  </thead>\n",
       "  <tbody>\n",
       "    <tr>\n",
       "      <th>East North Central</th>\n",
       "      <td>2740</td>\n",
       "      <td>6929</td>\n",
       "      <td>5081.200000</td>\n",
       "      <td>5209.0</td>\n",
       "      <td>1482</td>\n",
       "      <td>3891</td>\n",
       "      <td>2800.400000</td>\n",
       "      <td>3142.0</td>\n",
       "    </tr>\n",
       "    <tr>\n",
       "      <th>East South Central</th>\n",
       "      <td>1024</td>\n",
       "      <td>6139</td>\n",
       "      <td>3117.000000</td>\n",
       "      <td>2652.5</td>\n",
       "      <td>328</td>\n",
       "      <td>1744</td>\n",
       "      <td>972.250000</td>\n",
       "      <td>908.5</td>\n",
       "    </tr>\n",
       "    <tr>\n",
       "      <th>Mid-Atlantic</th>\n",
       "      <td>6048</td>\n",
       "      <td>39827</td>\n",
       "      <td>18012.666667</td>\n",
       "      <td>8163.0</td>\n",
       "      <td>3350</td>\n",
       "      <td>52070</td>\n",
       "      <td>20256.333333</td>\n",
       "      <td>5349.0</td>\n",
       "    </tr>\n",
       "    <tr>\n",
       "      <th>Mountain</th>\n",
       "      <td>434</td>\n",
       "      <td>7607</td>\n",
       "      <td>3561.375000</td>\n",
       "      <td>1926.5</td>\n",
       "      <td>205</td>\n",
       "      <td>3250</td>\n",
       "      <td>1157.250000</td>\n",
       "      <td>658.5</td>\n",
       "    </tr>\n",
       "    <tr>\n",
       "      <th>New England</th>\n",
       "      <td>747</td>\n",
       "      <td>6811</td>\n",
       "      <td>2150.500000</td>\n",
       "      <td>1142.5</td>\n",
       "      <td>354</td>\n",
       "      <td>13257</td>\n",
       "      <td>2916.500000</td>\n",
       "      <td>840.5</td>\n",
       "    </tr>\n",
       "    <tr>\n",
       "      <th>Pacific</th>\n",
       "      <td>1434</td>\n",
       "      <td>109008</td>\n",
       "      <td>28427.200000</td>\n",
       "      <td>11139.0</td>\n",
       "      <td>582</td>\n",
       "      <td>20964</td>\n",
       "      <td>6632.400000</td>\n",
       "      <td>3337.0</td>\n",
       "    </tr>\n",
       "    <tr>\n",
       "      <th>South Atlantic</th>\n",
       "      <td>708</td>\n",
       "      <td>21443</td>\n",
       "      <td>5806.666667</td>\n",
       "      <td>3928.0</td>\n",
       "      <td>222</td>\n",
       "      <td>9587</td>\n",
       "      <td>2646.444444</td>\n",
       "      <td>2230.0</td>\n",
       "    </tr>\n",
       "    <tr>\n",
       "      <th>West North Central</th>\n",
       "      <td>467</td>\n",
       "      <td>3993</td>\n",
       "      <td>1995.857143</td>\n",
       "      <td>1711.0</td>\n",
       "      <td>75</td>\n",
       "      <td>3250</td>\n",
       "      <td>1177.428571</td>\n",
       "      <td>773.0</td>\n",
       "    </tr>\n",
       "    <tr>\n",
       "      <th>West South Central</th>\n",
       "      <td>2280</td>\n",
       "      <td>19199</td>\n",
       "      <td>6710.500000</td>\n",
       "      <td>2681.5</td>\n",
       "      <td>432</td>\n",
       "      <td>6111</td>\n",
       "      <td>2027.500000</td>\n",
       "      <td>783.5</td>\n",
       "    </tr>\n",
       "  </tbody>\n",
       "</table>\n",
       "</div>"
      ],
      "text/plain": [
       "                   individuals                                family_members  \\\n",
       "                          amin    amax          mean   median           amin   \n",
       "region                                                                         \n",
       "East North Central        2740    6929   5081.200000   5209.0           1482   \n",
       "East South Central        1024    6139   3117.000000   2652.5            328   \n",
       "Mid-Atlantic              6048   39827  18012.666667   8163.0           3350   \n",
       "Mountain                   434    7607   3561.375000   1926.5            205   \n",
       "New England                747    6811   2150.500000   1142.5            354   \n",
       "Pacific                   1434  109008  28427.200000  11139.0            582   \n",
       "South Atlantic             708   21443   5806.666667   3928.0            222   \n",
       "West North Central         467    3993   1995.857143   1711.0             75   \n",
       "West South Central        2280   19199   6710.500000   2681.5            432   \n",
       "\n",
       "                                                 \n",
       "                     amax          mean  median  \n",
       "region                                           \n",
       "East North Central   3891   2800.400000  3142.0  \n",
       "East South Central   1744    972.250000   908.5  \n",
       "Mid-Atlantic        52070  20256.333333  5349.0  \n",
       "Mountain             3250   1157.250000   658.5  \n",
       "New England         13257   2916.500000   840.5  \n",
       "Pacific             20964   6632.400000  3337.0  \n",
       "South Atlantic       9587   2646.444444  2230.0  \n",
       "West North Central   3250   1177.428571   773.0  \n",
       "West South Central   6111   2027.500000   783.5  "
      ]
     },
     "execution_count": 129,
     "metadata": {},
     "output_type": "execute_result"
    }
   ],
   "source": [
    "ind_fam_stats = homeless_data.groupby(\"region\")[[\"individuals\", \"family_members\"]].agg([np.min, np.max, np.mean, np.median])\n",
    "ind_fam_stats"
   ]
  },
  {
   "cell_type": "markdown",
   "metadata": {},
   "source": [
    "#### Exercise"
   ]
  },
  {
   "cell_type": "code",
   "execution_count": 19,
   "metadata": {},
   "outputs": [],
   "source": [
    "# Use the Walmart sales dataset\n",
    "# Make sure you import numpy with the alias np.\n",
    "# Get the min, max, mean, and median of weekly_sales for each store type using .groupby() and .agg(). Store this as sales_stats. Make sure to use numpy functions!\n",
    "# Get the min, max, mean, and median of unemployment and fuel_price_usd_per_l for each store type. Store this as unemp_fuel_stats."
   ]
  },
  {
   "cell_type": "markdown",
   "metadata": {},
   "source": [
    "------"
   ]
  },
  {
   "cell_type": "markdown",
   "metadata": {},
   "source": [
    "### Pivot tables\n",
    "<a id='pd12'></a>"
   ]
  },
  {
   "cell_type": "markdown",
   "metadata": {},
   "source": [
    "Pivot tables are the standard way of aggregating data in Excel or other spreadsheet programms. In pandas, pivot tables are essentially just another way of performing grouped calculations. That is, the `.pivot_table()` method is just an alternative to `.groupby()`."
   ]
  },
  {
   "cell_type": "code",
   "execution_count": 132,
   "metadata": {},
   "outputs": [
    {
     "data": {
      "text/html": [
       "<div>\n",
       "<style scoped>\n",
       "    .dataframe tbody tr th:only-of-type {\n",
       "        vertical-align: middle;\n",
       "    }\n",
       "\n",
       "    .dataframe tbody tr th {\n",
       "        vertical-align: top;\n",
       "    }\n",
       "\n",
       "    .dataframe thead th {\n",
       "        text-align: right;\n",
       "    }\n",
       "</style>\n",
       "<table border=\"1\" class=\"dataframe\">\n",
       "  <thead>\n",
       "    <tr style=\"text-align: right;\">\n",
       "      <th></th>\n",
       "      <th>individuals</th>\n",
       "    </tr>\n",
       "    <tr>\n",
       "      <th>region</th>\n",
       "      <th></th>\n",
       "    </tr>\n",
       "  </thead>\n",
       "  <tbody>\n",
       "    <tr>\n",
       "      <th>East North Central</th>\n",
       "      <td>5081.200000</td>\n",
       "    </tr>\n",
       "    <tr>\n",
       "      <th>East South Central</th>\n",
       "      <td>3117.000000</td>\n",
       "    </tr>\n",
       "    <tr>\n",
       "      <th>Mid-Atlantic</th>\n",
       "      <td>18012.666667</td>\n",
       "    </tr>\n",
       "    <tr>\n",
       "      <th>Mountain</th>\n",
       "      <td>3561.375000</td>\n",
       "    </tr>\n",
       "    <tr>\n",
       "      <th>New England</th>\n",
       "      <td>2150.500000</td>\n",
       "    </tr>\n",
       "    <tr>\n",
       "      <th>Pacific</th>\n",
       "      <td>28427.200000</td>\n",
       "    </tr>\n",
       "    <tr>\n",
       "      <th>South Atlantic</th>\n",
       "      <td>5806.666667</td>\n",
       "    </tr>\n",
       "    <tr>\n",
       "      <th>West North Central</th>\n",
       "      <td>1995.857143</td>\n",
       "    </tr>\n",
       "    <tr>\n",
       "      <th>West South Central</th>\n",
       "      <td>6710.500000</td>\n",
       "    </tr>\n",
       "  </tbody>\n",
       "</table>\n",
       "</div>"
      ],
      "text/plain": [
       "                     individuals\n",
       "region                          \n",
       "East North Central   5081.200000\n",
       "East South Central   3117.000000\n",
       "Mid-Atlantic        18012.666667\n",
       "Mountain             3561.375000\n",
       "New England          2150.500000\n",
       "Pacific             28427.200000\n",
       "South Atlantic       5806.666667\n",
       "West North Central   1995.857143\n",
       "West South Central   6710.500000"
      ]
     },
     "execution_count": 132,
     "metadata": {},
     "output_type": "execute_result"
    }
   ],
   "source": [
    "# Pivot for mean indivuals for each region\n",
    "mean_homeless_by_region = homeless_data.pivot_table(values= \"individuals\", index= \"region\")\n",
    "mean_homeless_by_region"
   ]
  },
  {
   "cell_type": "code",
   "execution_count": 136,
   "metadata": {},
   "outputs": [
    {
     "data": {
      "text/html": [
       "<div>\n",
       "<style scoped>\n",
       "    .dataframe tbody tr th:only-of-type {\n",
       "        vertical-align: middle;\n",
       "    }\n",
       "\n",
       "    .dataframe tbody tr th {\n",
       "        vertical-align: top;\n",
       "    }\n",
       "\n",
       "    .dataframe thead th {\n",
       "        text-align: right;\n",
       "    }\n",
       "</style>\n",
       "<table border=\"1\" class=\"dataframe\">\n",
       "  <thead>\n",
       "    <tr style=\"text-align: right;\">\n",
       "      <th>individuals</th>\n",
       "      <th>False</th>\n",
       "      <th>True</th>\n",
       "    </tr>\n",
       "    <tr>\n",
       "      <th>region</th>\n",
       "      <th></th>\n",
       "      <th></th>\n",
       "    </tr>\n",
       "  </thead>\n",
       "  <tbody>\n",
       "    <tr>\n",
       "      <th>East North Central</th>\n",
       "      <td>NaN</td>\n",
       "      <td>5081.200000</td>\n",
       "    </tr>\n",
       "    <tr>\n",
       "      <th>East South Central</th>\n",
       "      <td>NaN</td>\n",
       "      <td>3117.000000</td>\n",
       "    </tr>\n",
       "    <tr>\n",
       "      <th>Mid-Atlantic</th>\n",
       "      <td>NaN</td>\n",
       "      <td>18012.666667</td>\n",
       "    </tr>\n",
       "    <tr>\n",
       "      <th>Mountain</th>\n",
       "      <td>708.500000</td>\n",
       "      <td>4512.333333</td>\n",
       "    </tr>\n",
       "    <tr>\n",
       "      <th>New England</th>\n",
       "      <td>787.333333</td>\n",
       "      <td>3513.666667</td>\n",
       "    </tr>\n",
       "    <tr>\n",
       "      <th>Pacific</th>\n",
       "      <td>NaN</td>\n",
       "      <td>28427.200000</td>\n",
       "    </tr>\n",
       "    <tr>\n",
       "      <th>South Atlantic</th>\n",
       "      <td>708.000000</td>\n",
       "      <td>6444.000000</td>\n",
       "    </tr>\n",
       "    <tr>\n",
       "      <th>West North Central</th>\n",
       "      <td>651.500000</td>\n",
       "      <td>2533.600000</td>\n",
       "    </tr>\n",
       "    <tr>\n",
       "      <th>West South Central</th>\n",
       "      <td>NaN</td>\n",
       "      <td>6710.500000</td>\n",
       "    </tr>\n",
       "  </tbody>\n",
       "</table>\n",
       "</div>"
      ],
      "text/plain": [
       "individuals              False         True \n",
       "region                                      \n",
       "East North Central         NaN   5081.200000\n",
       "East South Central         NaN   3117.000000\n",
       "Mid-Atlantic               NaN  18012.666667\n",
       "Mountain            708.500000   4512.333333\n",
       "New England         787.333333   3513.666667\n",
       "Pacific                    NaN  28427.200000\n",
       "South Atlantic      708.000000   6444.000000\n",
       "West North Central  651.500000   2533.600000\n",
       "West South Central         NaN   6710.500000"
      ]
     },
     "execution_count": 136,
     "metadata": {},
     "output_type": "execute_result"
    }
   ],
   "source": [
    "# Pivot for mean_homeless_by_type_indover1k\n",
    "mean_homeless_by_type_indover1k = homeless_data.pivot_table(values = \"individuals\", index = \"region\", columns = homeless_data[\"individuals\"] > 1000)\n",
    "mean_homeless_by_type_indover1k"
   ]
  },
  {
   "cell_type": "markdown",
   "metadata": {},
   "source": [
    "#### Exercise"
   ]
  },
  {
   "cell_type": "code",
   "execution_count": 137,
   "metadata": {},
   "outputs": [],
   "source": [
    "# Use the Walmart sales dataset\n",
    "# Make sure you import numpy with the alias np.\n",
    "# Get the mean weekly_sales by type using .pivot_table() and store as mean_sales_by_type.\n",
    "# Get the mean and median (using NumPy functions) of weekly_sales by type using .pivot_table() and store as mean_med_sales_by_type.\n",
    "# Get the mean of weekly_sales by type and is_holiday using .pivot_table() and store as mean_sales_by_type_holiday."
   ]
  },
  {
   "cell_type": "markdown",
   "metadata": {},
   "source": [
    "The `.pivot_table()` method has several useful arguments, including `fill_value` (replaces missing values with a real value )and `margins` (gives the row and column totals of the pivot table contents)"
   ]
  },
  {
   "cell_type": "code",
   "execution_count": 138,
   "metadata": {},
   "outputs": [
    {
     "name": "stdout",
     "output_type": "stream",
     "text": [
      "region                East North Central  East South Central  Mid-Atlantic  \\\n",
      "state                                                                        \n",
      "Alabama                                0                2570             0   \n",
      "Alaska                                 0                   0             0   \n",
      "Arizona                                0                   0             0   \n",
      "Arkansas                               0                   0             0   \n",
      "California                             0                   0             0   \n",
      "Colorado                               0                   0             0   \n",
      "Connecticut                            0                   0             0   \n",
      "Delaware                               0                   0             0   \n",
      "District of Columbia                   0                   0             0   \n",
      "Florida                                0                   0             0   \n",
      "Georgia                                0                   0             0   \n",
      "Hawaii                                 0                   0             0   \n",
      "Idaho                                  0                   0             0   \n",
      "Illinois                            6752                   0             0   \n",
      "Indiana                             3776                   0             0   \n",
      "Iowa                                   0                   0             0   \n",
      "Kansas                                 0                   0             0   \n",
      "Kentucky                               0                2735             0   \n",
      "Louisiana                              0                   0             0   \n",
      "Maine                                  0                   0             0   \n",
      "Maryland                               0                   0             0   \n",
      "Massachusetts                          0                   0             0   \n",
      "Michigan                            5209                   0             0   \n",
      "Minnesota                              0                   0             0   \n",
      "Mississippi                            0                1024             0   \n",
      "Missouri                               0                   0             0   \n",
      "Montana                                0                   0             0   \n",
      "Nebraska                               0                   0             0   \n",
      "Nevada                                 0                   0             0   \n",
      "New Hampshire                          0                   0             0   \n",
      "New Jersey                             0                   0          6048   \n",
      "New Mexico                             0                   0             0   \n",
      "New York                               0                   0         39827   \n",
      "North Carolina                         0                   0             0   \n",
      "North Dakota                           0                   0             0   \n",
      "Ohio                                6929                   0             0   \n",
      "Oklahoma                               0                   0             0   \n",
      "Oregon                                 0                   0             0   \n",
      "Pennsylvania                           0                   0          8163   \n",
      "Rhode Island                           0                   0             0   \n",
      "South Carolina                         0                   0             0   \n",
      "South Dakota                           0                   0             0   \n",
      "Tennessee                              0                6139             0   \n",
      "Texas                                  0                   0             0   \n",
      "Utah                                   0                   0             0   \n",
      "Vermont                                0                   0             0   \n",
      "Virginia                               0                   0             0   \n",
      "Washington                             0                   0             0   \n",
      "West Virginia                          0                   0             0   \n",
      "Wisconsin                           2740                   0             0   \n",
      "Wyoming                                0                   0             0   \n",
      "\n",
      "region                Mountain  New England  Pacific  South Atlantic  \\\n",
      "state                                                                  \n",
      "Alabama                      0            0        0               0   \n",
      "Alaska                       0            0     1434               0   \n",
      "Arizona                   7259            0        0               0   \n",
      "Arkansas                     0            0        0               0   \n",
      "California                   0            0   109008               0   \n",
      "Colorado                  7607            0        0               0   \n",
      "Connecticut                  0         2280        0               0   \n",
      "Delaware                     0            0        0             708   \n",
      "District of Columbia         0            0        0            3770   \n",
      "Florida                      0            0        0           21443   \n",
      "Georgia                      0            0        0            6943   \n",
      "Hawaii                       0            0     4131               0   \n",
      "Idaho                     1297            0        0               0   \n",
      "Illinois                     0            0        0               0   \n",
      "Indiana                      0            0        0               0   \n",
      "Iowa                         0            0        0               0   \n",
      "Kansas                       0            0        0               0   \n",
      "Kentucky                     0            0        0               0   \n",
      "Louisiana                    0            0        0               0   \n",
      "Maine                        0         1450        0               0   \n",
      "Maryland                     0            0        0            4914   \n",
      "Massachusetts                0         6811        0               0   \n",
      "Michigan                     0            0        0               0   \n",
      "Minnesota                    0            0        0               0   \n",
      "Mississippi                  0            0        0               0   \n",
      "Missouri                     0            0        0               0   \n",
      "Montana                    983            0        0               0   \n",
      "Nebraska                     0            0        0               0   \n",
      "Nevada                    7058            0        0               0   \n",
      "New Hampshire                0          835        0               0   \n",
      "New Jersey                   0            0        0               0   \n",
      "New Mexico                1949            0        0               0   \n",
      "New York                     0            0        0               0   \n",
      "North Carolina               0            0        0            6451   \n",
      "North Dakota                 0            0        0               0   \n",
      "Ohio                         0            0        0               0   \n",
      "Oklahoma                     0            0        0               0   \n",
      "Oregon                       0            0    11139               0   \n",
      "Pennsylvania                 0            0        0               0   \n",
      "Rhode Island                 0          747        0               0   \n",
      "South Carolina               0            0        0            3082   \n",
      "South Dakota                 0            0        0               0   \n",
      "Tennessee                    0            0        0               0   \n",
      "Texas                        0            0        0               0   \n",
      "Utah                      1904            0        0               0   \n",
      "Vermont                      0          780        0               0   \n",
      "Virginia                     0            0        0            3928   \n",
      "Washington                   0            0    16424               0   \n",
      "West Virginia                0            0        0            1021   \n",
      "Wisconsin                    0            0        0               0   \n",
      "Wyoming                    434            0        0               0   \n",
      "\n",
      "region                West North Central  West South Central  \n",
      "state                                                         \n",
      "Alabama                                0                   0  \n",
      "Alaska                                 0                   0  \n",
      "Arizona                                0                   0  \n",
      "Arkansas                               0                2280  \n",
      "California                             0                   0  \n",
      "Colorado                               0                   0  \n",
      "Connecticut                            0                   0  \n",
      "Delaware                               0                   0  \n",
      "District of Columbia                   0                   0  \n",
      "Florida                                0                   0  \n",
      "Georgia                                0                   0  \n",
      "Hawaii                                 0                   0  \n",
      "Idaho                                  0                   0  \n",
      "Illinois                               0                   0  \n",
      "Indiana                                0                   0  \n",
      "Iowa                                1711                   0  \n",
      "Kansas                              1443                   0  \n",
      "Kentucky                               0                   0  \n",
      "Louisiana                              0                2540  \n",
      "Maine                                  0                   0  \n",
      "Maryland                               0                   0  \n",
      "Massachusetts                          0                   0  \n",
      "Michigan                               0                   0  \n",
      "Minnesota                           3993                   0  \n",
      "Mississippi                            0                   0  \n",
      "Missouri                            3776                   0  \n",
      "Montana                                0                   0  \n",
      "Nebraska                            1745                   0  \n",
      "Nevada                                 0                   0  \n",
      "New Hampshire                          0                   0  \n",
      "New Jersey                             0                   0  \n",
      "New Mexico                             0                   0  \n",
      "New York                               0                   0  \n",
      "North Carolina                         0                   0  \n",
      "North Dakota                         467                   0  \n",
      "Ohio                                   0                   0  \n",
      "Oklahoma                               0                2823  \n",
      "Oregon                                 0                   0  \n",
      "Pennsylvania                           0                   0  \n",
      "Rhode Island                           0                   0  \n",
      "South Carolina                         0                   0  \n",
      "South Dakota                         836                   0  \n",
      "Tennessee                              0                   0  \n",
      "Texas                                  0               19199  \n",
      "Utah                                   0                   0  \n",
      "Vermont                                0                   0  \n",
      "Virginia                               0                   0  \n",
      "Washington                             0                   0  \n",
      "West Virginia                          0                   0  \n",
      "Wisconsin                              0                   0  \n",
      "Wyoming                                0                   0  \n",
      "region                East North Central  East South Central  Mid-Atlantic  \\\n",
      "state                                                                        \n",
      "Alabama                              0.0                2570      0.000000   \n",
      "Alaska                               0.0                   0      0.000000   \n",
      "Arizona                              0.0                   0      0.000000   \n",
      "Arkansas                             0.0                   0      0.000000   \n",
      "California                           0.0                   0      0.000000   \n",
      "Colorado                             0.0                   0      0.000000   \n",
      "Connecticut                          0.0                   0      0.000000   \n",
      "Delaware                             0.0                   0      0.000000   \n",
      "District of Columbia                 0.0                   0      0.000000   \n",
      "Florida                              0.0                   0      0.000000   \n",
      "Georgia                              0.0                   0      0.000000   \n",
      "Hawaii                               0.0                   0      0.000000   \n",
      "Idaho                                0.0                   0      0.000000   \n",
      "Illinois                          6752.0                   0      0.000000   \n",
      "Indiana                           3776.0                   0      0.000000   \n",
      "Iowa                                 0.0                   0      0.000000   \n",
      "Kansas                               0.0                   0      0.000000   \n",
      "Kentucky                             0.0                2735      0.000000   \n",
      "Louisiana                            0.0                   0      0.000000   \n",
      "Maine                                0.0                   0      0.000000   \n",
      "Maryland                             0.0                   0      0.000000   \n",
      "Massachusetts                        0.0                   0      0.000000   \n",
      "Michigan                          5209.0                   0      0.000000   \n",
      "Minnesota                            0.0                   0      0.000000   \n",
      "Mississippi                          0.0                1024      0.000000   \n",
      "Missouri                             0.0                   0      0.000000   \n",
      "Montana                              0.0                   0      0.000000   \n",
      "Nebraska                             0.0                   0      0.000000   \n",
      "Nevada                               0.0                   0      0.000000   \n",
      "New Hampshire                        0.0                   0      0.000000   \n",
      "New Jersey                           0.0                   0   6048.000000   \n",
      "New Mexico                           0.0                   0      0.000000   \n",
      "New York                             0.0                   0  39827.000000   \n",
      "North Carolina                       0.0                   0      0.000000   \n",
      "North Dakota                         0.0                   0      0.000000   \n",
      "Ohio                              6929.0                   0      0.000000   \n",
      "Oklahoma                             0.0                   0      0.000000   \n",
      "Oregon                               0.0                   0      0.000000   \n",
      "Pennsylvania                         0.0                   0   8163.000000   \n",
      "Rhode Island                         0.0                   0      0.000000   \n",
      "South Carolina                       0.0                   0      0.000000   \n",
      "South Dakota                         0.0                   0      0.000000   \n",
      "Tennessee                            0.0                6139      0.000000   \n",
      "Texas                                0.0                   0      0.000000   \n",
      "Utah                                 0.0                   0      0.000000   \n",
      "Vermont                              0.0                   0      0.000000   \n",
      "Virginia                             0.0                   0      0.000000   \n",
      "Washington                           0.0                   0      0.000000   \n",
      "West Virginia                        0.0                   0      0.000000   \n",
      "Wisconsin                         2740.0                   0      0.000000   \n",
      "Wyoming                              0.0                   0      0.000000   \n",
      "All                               5081.2                3117  18012.666667   \n",
      "\n",
      "region                Mountain  New England   Pacific  South Atlantic  \\\n",
      "state                                                                   \n",
      "Alabama                  0.000          0.0       0.0        0.000000   \n",
      "Alaska                   0.000          0.0    1434.0        0.000000   \n",
      "Arizona               7259.000          0.0       0.0        0.000000   \n",
      "Arkansas                 0.000          0.0       0.0        0.000000   \n",
      "California               0.000          0.0  109008.0        0.000000   \n",
      "Colorado              7607.000          0.0       0.0        0.000000   \n",
      "Connecticut              0.000       2280.0       0.0        0.000000   \n",
      "Delaware                 0.000          0.0       0.0      708.000000   \n",
      "District of Columbia     0.000          0.0       0.0     3770.000000   \n",
      "Florida                  0.000          0.0       0.0    21443.000000   \n",
      "Georgia                  0.000          0.0       0.0     6943.000000   \n",
      "Hawaii                   0.000          0.0    4131.0        0.000000   \n",
      "Idaho                 1297.000          0.0       0.0        0.000000   \n",
      "Illinois                 0.000          0.0       0.0        0.000000   \n",
      "Indiana                  0.000          0.0       0.0        0.000000   \n",
      "Iowa                     0.000          0.0       0.0        0.000000   \n",
      "Kansas                   0.000          0.0       0.0        0.000000   \n",
      "Kentucky                 0.000          0.0       0.0        0.000000   \n",
      "Louisiana                0.000          0.0       0.0        0.000000   \n",
      "Maine                    0.000       1450.0       0.0        0.000000   \n",
      "Maryland                 0.000          0.0       0.0     4914.000000   \n",
      "Massachusetts            0.000       6811.0       0.0        0.000000   \n",
      "Michigan                 0.000          0.0       0.0        0.000000   \n",
      "Minnesota                0.000          0.0       0.0        0.000000   \n",
      "Mississippi              0.000          0.0       0.0        0.000000   \n",
      "Missouri                 0.000          0.0       0.0        0.000000   \n",
      "Montana                983.000          0.0       0.0        0.000000   \n",
      "Nebraska                 0.000          0.0       0.0        0.000000   \n",
      "Nevada                7058.000          0.0       0.0        0.000000   \n",
      "New Hampshire            0.000        835.0       0.0        0.000000   \n",
      "New Jersey               0.000          0.0       0.0        0.000000   \n",
      "New Mexico            1949.000          0.0       0.0        0.000000   \n",
      "New York                 0.000          0.0       0.0        0.000000   \n",
      "North Carolina           0.000          0.0       0.0     6451.000000   \n",
      "North Dakota             0.000          0.0       0.0        0.000000   \n",
      "Ohio                     0.000          0.0       0.0        0.000000   \n",
      "Oklahoma                 0.000          0.0       0.0        0.000000   \n",
      "Oregon                   0.000          0.0   11139.0        0.000000   \n",
      "Pennsylvania             0.000          0.0       0.0        0.000000   \n",
      "Rhode Island             0.000        747.0       0.0        0.000000   \n",
      "South Carolina           0.000          0.0       0.0     3082.000000   \n",
      "South Dakota             0.000          0.0       0.0        0.000000   \n",
      "Tennessee                0.000          0.0       0.0        0.000000   \n",
      "Texas                    0.000          0.0       0.0        0.000000   \n",
      "Utah                  1904.000          0.0       0.0        0.000000   \n",
      "Vermont                  0.000        780.0       0.0        0.000000   \n",
      "Virginia                 0.000          0.0       0.0     3928.000000   \n",
      "Washington               0.000          0.0   16424.0        0.000000   \n",
      "West Virginia            0.000          0.0       0.0     1021.000000   \n",
      "Wisconsin                0.000          0.0       0.0        0.000000   \n",
      "Wyoming                434.000          0.0       0.0        0.000000   \n",
      "All                   3561.375       2150.5   28427.2     5806.666667   \n",
      "\n",
      "region                West North Central  West South Central            All  \n",
      "state                                                                        \n",
      "Alabama                         0.000000                 0.0    2570.000000  \n",
      "Alaska                          0.000000                 0.0    1434.000000  \n",
      "Arizona                         0.000000                 0.0    7259.000000  \n",
      "Arkansas                        0.000000              2280.0    2280.000000  \n",
      "California                      0.000000                 0.0  109008.000000  \n",
      "Colorado                        0.000000                 0.0    7607.000000  \n",
      "Connecticut                     0.000000                 0.0    2280.000000  \n",
      "Delaware                        0.000000                 0.0     708.000000  \n",
      "District of Columbia            0.000000                 0.0    3770.000000  \n",
      "Florida                         0.000000                 0.0   21443.000000  \n",
      "Georgia                         0.000000                 0.0    6943.000000  \n",
      "Hawaii                          0.000000                 0.0    4131.000000  \n",
      "Idaho                           0.000000                 0.0    1297.000000  \n",
      "Illinois                        0.000000                 0.0    6752.000000  \n",
      "Indiana                         0.000000                 0.0    3776.000000  \n",
      "Iowa                         1711.000000                 0.0    1711.000000  \n",
      "Kansas                       1443.000000                 0.0    1443.000000  \n",
      "Kentucky                        0.000000                 0.0    2735.000000  \n",
      "Louisiana                       0.000000              2540.0    2540.000000  \n",
      "Maine                           0.000000                 0.0    1450.000000  \n",
      "Maryland                        0.000000                 0.0    4914.000000  \n",
      "Massachusetts                   0.000000                 0.0    6811.000000  \n",
      "Michigan                        0.000000                 0.0    5209.000000  \n",
      "Minnesota                    3993.000000                 0.0    3993.000000  \n",
      "Mississippi                     0.000000                 0.0    1024.000000  \n",
      "Missouri                     3776.000000                 0.0    3776.000000  \n",
      "Montana                         0.000000                 0.0     983.000000  \n",
      "Nebraska                     1745.000000                 0.0    1745.000000  \n",
      "Nevada                          0.000000                 0.0    7058.000000  \n",
      "New Hampshire                   0.000000                 0.0     835.000000  \n",
      "New Jersey                      0.000000                 0.0    6048.000000  \n",
      "New Mexico                      0.000000                 0.0    1949.000000  \n",
      "New York                        0.000000                 0.0   39827.000000  \n",
      "North Carolina                  0.000000                 0.0    6451.000000  \n",
      "North Dakota                  467.000000                 0.0     467.000000  \n",
      "Ohio                            0.000000                 0.0    6929.000000  \n",
      "Oklahoma                        0.000000              2823.0    2823.000000  \n",
      "Oregon                          0.000000                 0.0   11139.000000  \n",
      "Pennsylvania                    0.000000                 0.0    8163.000000  \n",
      "Rhode Island                    0.000000                 0.0     747.000000  \n",
      "South Carolina                  0.000000                 0.0    3082.000000  \n",
      "South Dakota                  836.000000                 0.0     836.000000  \n",
      "Tennessee                       0.000000                 0.0    6139.000000  \n",
      "Texas                           0.000000             19199.0   19199.000000  \n",
      "Utah                            0.000000                 0.0    1904.000000  \n",
      "Vermont                         0.000000                 0.0     780.000000  \n",
      "Virginia                        0.000000                 0.0    3928.000000  \n",
      "Washington                      0.000000                 0.0   16424.000000  \n",
      "West Virginia                   0.000000                 0.0    1021.000000  \n",
      "Wisconsin                       0.000000                 0.0    2740.000000  \n",
      "Wyoming                         0.000000                 0.0     434.000000  \n",
      "All                          1995.857143              6710.5    7225.784314  \n"
     ]
    }
   ],
   "source": [
    "print(homeless_data.pivot_table(values=\"individuals\", index=\"state\", columns=\"region\", fill_value=0, margins= False))\n",
    "print(homeless_data.pivot_table(values=\"individuals\", index=\"state\", columns=\"region\", fill_value=0, margins= True))"
   ]
  },
  {
   "cell_type": "markdown",
   "metadata": {},
   "source": [
    "#### Exercise"
   ]
  },
  {
   "cell_type": "code",
   "execution_count": 25,
   "metadata": {},
   "outputs": [],
   "source": [
    "#Create Pivot table, Print the mean weekly_sales by department and type, filling in any missing values with 0\n",
    "#Create Pivot table, Print the mean weekly_sales by department and type, filling in any missing values with 0 and summing all rows and columns."
   ]
  }
 ],
 "metadata": {
  "kernelspec": {
   "display_name": "Python 3",
   "language": "python",
   "name": "python3"
  },
  "language_info": {
   "codemirror_mode": {
    "name": "ipython",
    "version": 3
   },
   "file_extension": ".py",
   "mimetype": "text/x-python",
   "name": "python",
   "nbconvert_exporter": "python",
   "pygments_lexer": "ipython3",
   "version": "3.7.3"
  }
 },
 "nbformat": 4,
 "nbformat_minor": 2
}
